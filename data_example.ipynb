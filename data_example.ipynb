{
 "cells": [
  {
   "cell_type": "code",
   "execution_count": 1,
   "metadata": {},
   "outputs": [
    {
     "ename": "NameError",
     "evalue": "name 'torch' is not defined",
     "output_type": "error",
     "traceback": [
      "\u001b[0;31m---------------------------------------------------------------------------\u001b[0m",
      "\u001b[0;31mNameError\u001b[0m                                 Traceback (most recent call last)",
      "Cell \u001b[0;32mIn [1], line 16\u001b[0m\n\u001b[1;32m     13\u001b[0m          \u001b[39melse\u001b[39;00m:\n\u001b[1;32m     14\u001b[0m              \u001b[39mreturn\u001b[39;00m \u001b[39msuper\u001b[39m()\u001b[39m.\u001b[39m__cat_dim__(key, value, \u001b[39m*\u001b[39margs, \u001b[39m*\u001b[39m\u001b[39m*\u001b[39mkwargs)\n\u001b[0;32m---> 16\u001b[0m edge_index \u001b[39m=\u001b[39m torch\u001b[39m.\u001b[39mtensor([\n\u001b[1;32m     17\u001b[0m    [\u001b[39m0\u001b[39m, \u001b[39m1\u001b[39m, \u001b[39m1\u001b[39m, \u001b[39m2\u001b[39m],\n\u001b[1;32m     18\u001b[0m    [\u001b[39m1\u001b[39m, \u001b[39m0\u001b[39m, \u001b[39m2\u001b[39m, \u001b[39m1\u001b[39m],\n\u001b[1;32m     19\u001b[0m ])\n\u001b[1;32m     23\u001b[0m foo \u001b[39m=\u001b[39m torch\u001b[39m.\u001b[39mrandn(\u001b[39m16\u001b[39m)\n\u001b[1;32m     25\u001b[0m data \u001b[39m=\u001b[39m MyData(edge_index\u001b[39m=\u001b[39medge_index, foo\u001b[39m=\u001b[39mfoo)\n",
      "\u001b[0;31mNameError\u001b[0m: name 'torch' is not defined"
     ]
    }
   ],
   "source": [
    "from torch_geometric.data import Data\n",
    "from torch_geometric.loader import DataLoader\n",
    "\n",
    "class MyData(Data):\n",
    "    my_id = 0\n",
    "    def __init__(self, *args, **kwargs):\n",
    "        super().__init__(*args, **kwargs)\n",
    "        self.my_id = MyData.my_id\n",
    "        MyData.my_id += 1\n",
    "    def __cat_dim__(self, key, value, *args, **kwargs):\n",
    "         if key == 'foo':\n",
    "             return None\n",
    "         else:\n",
    "             return super().__cat_dim__(key, value, *args, **kwargs)\n",
    "\n",
    "edge_index = torch.tensor([\n",
    "   [0, 1, 1, 2],\n",
    "   [1, 0, 2, 1],\n",
    "])\n",
    "\n",
    "\n",
    "\n",
    "foo = torch.randn(16)\n",
    "\n",
    "data = MyData(edge_index=edge_index, foo=foo)\n",
    "data1 = MyData(edge_index=edge_index, foo=foo)\n",
    "data2 = MyData(edge_index=edge_index, foo=foo)\n",
    "data_list = [data, data1, data2]\n",
    "loader = DataLoader(data_list, batch_size=2, shuffle=True)\n",
    "batch = next(iter(loader))\n",
    "\n",
    "print(batch[0].my_id)\n",
    "print(batch[1].my_id)\n",
    "\n",
    "\n",
    "\n"
   ]
  }
 ],
 "metadata": {
  "kernelspec": {
   "display_name": "Python 3.9.14 ('.venv': venv)",
   "language": "python",
   "name": "python3"
  },
  "language_info": {
   "codemirror_mode": {
    "name": "ipython",
    "version": 3
   },
   "file_extension": ".py",
   "mimetype": "text/x-python",
   "name": "python",
   "nbconvert_exporter": "python",
   "pygments_lexer": "ipython3",
   "version": "3.9.14"
  },
  "orig_nbformat": 4,
  "vscode": {
   "interpreter": {
    "hash": "5f3cd47e8294954fd18af9024571d3e60d92c8fd24f506352a1bb4b0f54cbdcb"
   }
  }
 },
 "nbformat": 4,
 "nbformat_minor": 2
}
