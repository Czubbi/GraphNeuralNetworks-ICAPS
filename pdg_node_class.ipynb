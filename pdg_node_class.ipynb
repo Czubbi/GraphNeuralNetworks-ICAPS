{
 "cells": [
  {
   "cell_type": "code",
   "execution_count": 22,
   "metadata": {},
   "outputs": [
    {
     "name": "stdout",
     "output_type": "stream",
     "text": [
      "1.13.1\n"
     ]
    }
   ],
   "source": [
    "# Install required packages.\n",
    "import os\n",
    "import torch\n",
    "os.environ['TORCH'] = torch.__version__\n",
    "print(torch.__version__)\n",
    "\n",
    "import pandas as pd\n",
    "import numpy as np\n",
    "\n",
    "# Helper function for visualization.\n",
    "%matplotlib inline\n",
    "import matplotlib.pyplot as plt\n",
    "from sklearn.manifold import TSNE\n",
    "\n",
    "import torch_geometric.transforms as T\n",
    "import torch.nn.functional as F\n",
    "from torch_geometric.loader import DataLoader\n",
    "from torch_geometric.datasets import OGB_MAG\n",
    "from torch_geometric.nn import SAGEConv, to_hetero, GATConv, Linear\n",
    "# impoort HeteroData\n",
    "from torch_geometric.data import HeteroData\n",
    "\n"
   ]
  },
  {
   "cell_type": "code",
   "execution_count": 23,
   "metadata": {},
   "outputs": [],
   "source": [
    "# from torch_geometric.datasets import OGB_MAG\n",
    "# import torch_geometric.transforms as T\n",
    "\n",
    "# dataset = OGB_MAG(root='./data', preprocess='metapath2vec')\n",
    "# data = dataset[0]\n",
    "\n",
    "# print(data.metadata())\n",
    "# data['institution'].x.shape\n",
    "# data.x"
   ]
  },
  {
   "cell_type": "code",
   "execution_count": 24,
   "metadata": {},
   "outputs": [],
   "source": [
    "# create a tensor of 84 nodes that are empty\n",
    "# x = torch.empty(84, 0)\n",
    "# x[0][0]"
   ]
  },
  {
   "cell_type": "code",
   "execution_count": 25,
   "metadata": {},
   "outputs": [],
   "source": [
    "def node_df_to_torch(df: pd.DataFrame):\n",
    "    return torch.tensor(df.values, dtype=torch.float)\n",
    "\n",
    "def edge_df_to_torch(df: pd.DataFrame):\n",
    "    # assert edge_type in [\"VarVal\",\"ValOp\", \"OpVal\"]\n",
    "        return torch.tensor(df.index, dtype=torch.long).t().contiguous()\n",
    "\n",
    "def problem_dfs(problem_path):\n",
    "    \"\"\"\n",
    "    Returns the dataframes for the variables, values, operators, and their respective edges\n",
    "    \"\"\"\n",
    "    variables_df = pd.read_csv(os.path.join(problem_path, 'variables.csv'), index_col=0)\n",
    "    variables_df = variables_df.drop(columns=[\"is_goal\"])\n",
    "    \n",
    "    values_df = pd.read_csv(os.path.join(problem_path, 'values.csv'), index_col=0)\n",
    "\n",
    "    operators_df = pd.read_csv(os.path.join(problem_path, 'operators.csv'), index_col=0)\n",
    "\n",
    "    val_var_df = pd.read_csv(os.path.join(problem_path, 'ValVar_edges.csv'), index_col=[0,1])\n",
    "    val_op_df = pd.read_csv(os.path.join(problem_path, 'ValOp_edges.csv'), index_col=[0,1])\n",
    "    val_op_df = val_op_df.drop(columns=[\"label\"])\n",
    "    op_val_df = pd.read_csv(os.path.join(problem_path, 'OpVal_edges.csv'), index_col=[0,1])\n",
    "    op_val_df = op_val_df.drop(columns=[\"label\"])\n",
    "\n",
    "    return variables_df, values_df, operators_df, val_var_df, val_op_df, op_val_df\n",
    "\n",
    "def build_hetero(\n",
    "    variables_df,\n",
    "    values_df,\n",
    "    operators_df,\n",
    "    val_var_df,\n",
    "    val_op_df,\n",
    "    op_val_df,\n",
    "):\n",
    "    hetero_data = HeteroData()\n",
    "    hetero_data['variable'].x = node_df_to_torch(variables_df)\n",
    "    hetero_data['value'].x = node_df_to_torch(values_df)\n",
    "    hetero_data['operator'].x = x = torch.empty(len(operators_df), 0)\n",
    "    hetero_data['operator'].y = node_df_to_torch(operators_df)\n",
    "\n",
    "    hetero_data['variable', 'has_value', 'value'].edge_index = edge_df_to_torch(val_var_df)\n",
    "    hetero_data['value', 'precondition', 'operator'].edge_index = edge_df_to_torch(val_op_df)\n",
    "    hetero_data['operator', 'effect', 'value'].edge_index = edge_df_to_torch(op_val_df)\n",
    "\n",
    "    # VarVal = edge_df_to_torch(val_var_df)\n",
    "    # ValOp = edge_df_to_torch(val_op_df)\n",
    "    # OpVal = edge_df_to_torch(op_val_df)\n",
    "\n",
    "\n",
    "    # return hetero_data\n",
    "    return T.ToUndirected()(hetero_data)\n",
    "\n",
    "\n",
    "def build_data_set():\n",
    "    dataset = []\n",
    "    dir_list = os.listdir(\"big_dataset/satellite\")[:500]\n",
    "    for problem in dir_list:\n",
    "        dfs = problem_dfs(os.path.join(\"big_dataset/satellite\", problem))\n",
    "        var_df, val_df, op_df, val_var_df, val_op_df, op_val_df = dfs\n",
    "        temp_date = build_hetero(*dfs)\n",
    "        dataset.append(temp_date)\n",
    "    return dataset\n",
    "\n",
    "\n",
    "def split_and_out_data_laoder():\n",
    "    dataset = build_data_set()\n",
    "    dataset_size = len(dataset)\n",
    "    indices = list(range(dataset_size))\n",
    "    split = int(np.floor(0.25 * dataset_size))\n",
    "    if True :\n",
    "        np.random.seed(42)\n",
    "        np.random.shuffle(indices)\n",
    "    train_indices, test_indicies = indices[split:], indices[:split]\n",
    "    \n",
    "    train_set = []\n",
    "    test_set = []\n",
    "\n",
    "    for i in train_indices:\n",
    "        train_set.append(dataset[i])\n",
    "    for i in test_indicies:\n",
    "        test_set.append(dataset[i])\n",
    "\n",
    "    train_loader = DataLoader(train_set, batch_size=10, shuffle=True)\n",
    "    test_loader = DataLoader(test_set, batch_size=len(test_set), shuffle=True)\n",
    "    # test_loader = test_set\n",
    "    return train_loader, test_loader\n",
    "\n"
   ]
  },
  {
   "cell_type": "code",
   "execution_count": 26,
   "metadata": {},
   "outputs": [],
   "source": [
    "train_loader, test_loader = split_and_out_data_laoder()\n"
   ]
  },
  {
   "cell_type": "code",
   "execution_count": 34,
   "metadata": {},
   "outputs": [],
   "source": [
    "\n",
    "\n",
    "class GNN(torch.nn.Module):\n",
    "    def __init__(self, hidden_channels, out_channels):\n",
    "        super().__init__()\n",
    "        self.conv1 = GATConv((-1, -1), hidden_channels, add_self_loops=False)\n",
    "        self.lin1 = Linear(-1, hidden_channels)\n",
    "        self.conv2 = GATConv((-1, -1), out_channels, add_self_loops=False)\n",
    "        self.lin2 = Linear(-1, out_channels)\n",
    "\n",
    "    def forward(self, x, edge_index):\n",
    "        x = self.conv1(x, edge_index) + self.lin1(x)\n",
    "        x = x.relu()\n",
    "        x = self.conv2(x, edge_index) + self.lin2(x)\n",
    "        x = x.sigmoid()\n",
    "        return x\n",
    "\n",
    "\n",
    "model = GNN(hidden_channels=64, out_channels=1)\n",
    "model = to_hetero(model, next(iter(train_loader)).metadata(), aggr='sum')\n",
    "optimizer = torch.optim.Adam(model.parameters(), lr=0.003)"
   ]
  },
  {
   "cell_type": "code",
   "execution_count": 35,
   "metadata": {},
   "outputs": [],
   "source": [
    "# print(out['operator'][0:10])\n",
    "# print(our_data['operator'].y[0:10])"
   ]
  },
  {
   "cell_type": "code",
   "execution_count": 36,
   "metadata": {},
   "outputs": [],
   "source": [
    "def train():\n",
    "    model.train()\n",
    "\n",
    "    for batch in train_loader:\n",
    "        # print(f'test batch: {batch}')\n",
    "\n",
    "        total_size = len(batch['operator'].y)\n",
    "        # train_weights = torch.ones_(total_size).reshape(total_size,1)\n",
    "        train_weights = torch.ones_like(batch['operator'].y)\n",
    "        nunber_of_ones = batch['operator'].y.sum()\n",
    "        nunber_of_zeros = total_size - nunber_of_ones\n",
    "        train_weights[batch['operator'].y == 0] = nunber_of_ones/nunber_of_zeros\n",
    "        train_weights[batch['operator'].y == 1] = nunber_of_zeros/nunber_of_ones\n",
    "        # weight[batch['operator'].y == 0] = 1\n",
    "        # weight[batch['operator'].y == 1] = 1\n",
    "        # print(f'weight: {train_weights.shape}')\n",
    "        # flattened = torch.flatten(train_weights, start_dim=total_size, end_dim=0)\n",
    "        # flattened = torch.reshape(train_weights, (total_size, 1))\n",
    "        # print(f'weight: {flattened.shape}')\n",
    "\n",
    "        optimizer.zero_grad()\n",
    "        out = model(batch.x_dict, batch.edge_index_dict)\n",
    "        loss = F.binary_cross_entropy(out['operator'],\n",
    "                               batch['operator'].y, weight=train_weights)\n",
    "        loss.backward()\n",
    "        optimizer.step()\n",
    "      \n",
    "\n",
    "    return loss\n",
    "\n",
    "@torch.no_grad()\n",
    "def test():\n",
    "    model.eval()\n",
    "    i=0\n",
    "    for batch in test_loader:\n",
    "        # print(f'test batch: {batch}')\n",
    "        total_size = len(batch['operator'].y)\n",
    "        # test_weights = torch.ones(total_size).reshape(total_size,1)\n",
    "        test_weights = torch.ones_like(batch['operator'].y)\n",
    "        nunber_of_ones = batch['operator'].y.sum()\n",
    "        nunber_of_zeros = total_size - nunber_of_ones\n",
    "        test_weights[batch['operator'].y == 0] = nunber_of_ones/nunber_of_zeros\n",
    "        test_weights[batch['operator'].y == 1] = nunber_of_zeros/nunber_of_ones\n",
    "        assert i == 0\n",
    "\n",
    "        # test_flattened = torch.reshape(test_weights, (total_size, 1))\n",
    "\n",
    "        out = model(batch.x_dict, batch.edge_index_dict)\n",
    "        loss = F.binary_cross_entropy(out['operator'],\n",
    "                                batch['operator'].y, weight=test_weights)\n",
    "        target = batch['operator'].y\n",
    "        preds = out['operator']\n",
    "        i+=1\n",
    "    return loss, target, preds\n",
    "\n",
    "\n",
    "def evaluate_and_return_confusion():\n",
    "    model.eval()\n",
    "    targets = []\n",
    "    preds = []\n",
    "    for batch in test_loader:\n",
    "        out = model(batch.x_dict, batch.edge_index_dict)\n",
    "        target = batch['operator'].y\n",
    "        pred = out['operator']\n",
    "        targets.append(target)\n",
    "        preds.append(pred)\n",
    "    return targets, preds\n"
   ]
  },
  {
   "cell_type": "code",
   "execution_count": 37,
   "metadata": {},
   "outputs": [
    {
     "name": "stdout",
     "output_type": "stream",
     "text": [
      "Epoch: 001, Loss: 0.2635, Test: 0.2293\n",
      "Epoch: 002, Loss: 0.1774, Test: 0.2159\n",
      "Epoch: 003, Loss: 0.1211, Test: 0.2145\n",
      "Epoch: 004, Loss: 0.3259, Test: 0.2145\n",
      "Epoch: 005, Loss: 0.1084, Test: 0.2135\n",
      "Epoch: 006, Loss: 0.1695, Test: 0.2134\n",
      "Epoch: 007, Loss: 0.2010, Test: 0.2133\n",
      "Epoch: 008, Loss: 0.2241, Test: 0.2134\n",
      "Epoch: 009, Loss: 0.3921, Test: 0.2133\n",
      "Epoch: 010, Loss: 0.1768, Test: 0.2148\n",
      "Epoch: 011, Loss: 0.1650, Test: 0.2133\n",
      "Epoch: 012, Loss: 0.1900, Test: 0.2133\n",
      "Epoch: 013, Loss: 0.2190, Test: 0.2134\n",
      "Epoch: 014, Loss: 0.1973, Test: 0.2133\n",
      "Epoch: 015, Loss: 0.1620, Test: 0.2136\n",
      "Epoch: 016, Loss: 0.1383, Test: 0.2145\n",
      "Epoch: 017, Loss: 0.2072, Test: 0.2132\n",
      "Epoch: 018, Loss: 0.2020, Test: 0.2136\n",
      "Epoch: 019, Loss: 0.2052, Test: 0.2134\n",
      "Epoch: 020, Loss: 0.1343, Test: 0.2132\n",
      "Epoch: 021, Loss: 0.2598, Test: 0.2144\n",
      "Epoch: 022, Loss: 0.1428, Test: 0.2134\n",
      "Epoch: 023, Loss: 0.1736, Test: 0.2132\n",
      "Epoch: 024, Loss: 0.1768, Test: 0.2133\n",
      "Epoch: 025, Loss: 0.1543, Test: 0.2134\n",
      "Epoch: 026, Loss: 0.2388, Test: 0.2143\n",
      "Epoch: 027, Loss: 0.1951, Test: 0.2131\n",
      "Epoch: 028, Loss: 0.2189, Test: 0.2134\n",
      "Epoch: 029, Loss: 0.1880, Test: 0.2135\n",
      "Epoch: 030, Loss: 0.1327, Test: 0.2179\n",
      "Epoch: 031, Loss: 0.1915, Test: 0.2130\n",
      "Epoch: 032, Loss: 0.1973, Test: 0.2149\n",
      "Epoch: 033, Loss: 0.1501, Test: 0.2131\n",
      "Epoch: 034, Loss: 0.2089, Test: 0.2130\n",
      "Epoch: 035, Loss: 0.2348, Test: 0.2130\n",
      "Epoch: 036, Loss: 0.2205, Test: 0.2137\n",
      "Epoch: 037, Loss: 0.1479, Test: 0.2134\n",
      "Epoch: 038, Loss: 0.2681, Test: 0.2150\n",
      "Epoch: 039, Loss: 0.1447, Test: 0.2133\n",
      "Epoch: 040, Loss: 0.0932, Test: 0.2130\n",
      "Epoch: 041, Loss: 0.2671, Test: 0.2131\n",
      "Epoch: 042, Loss: 0.2151, Test: 0.2131\n",
      "Epoch: 043, Loss: 0.1516, Test: 0.2131\n",
      "Epoch: 044, Loss: 0.1221, Test: 0.2130\n",
      "Epoch: 045, Loss: 0.0898, Test: 0.2135\n",
      "Epoch: 046, Loss: 0.2327, Test: 0.2130\n",
      "Epoch: 047, Loss: 0.1980, Test: 0.2137\n",
      "Epoch: 048, Loss: 0.2989, Test: 0.2130\n",
      "Epoch: 049, Loss: 0.2725, Test: 0.2129\n"
     ]
    }
   ],
   "source": [
    "best_val_perf = test_perf = 0\n",
    "epoch_list = []\n",
    "loss_list = []\n",
    "test_perf_list = []\n",
    "target_conf = []\n",
    "preds_conf = []\n",
    "for epoch in range(1, 15):\n",
    "    train_loss = train()\n",
    "\n",
    "    test_perf, target, preds = test()\n",
    "    target_conf.append(target)\n",
    "    preds_conf.append(preds)\n",
    "    # if val_perf > best_val_perf:\n",
    "    #     best_val_perf = val_perf\n",
    "    #     test_perf = tmp_test_perf\n",
    "    # log = 'Epoch: {:03d}, Loss: {:.4f}, Val: {:.4f}, Test: {:.4f}'\n",
    "    log = 'Epoch: {:03d}, Loss: {:.4f}, Test: {:.4f}'\n",
    "\n",
    "    epoch_list.append(epoch)\n",
    "    loss_list.append(train_loss.item())\n",
    "    test_perf_list.append(test_perf)\n",
    "\n",
    "    if epoch % 1 == 0:\n",
    "\n",
    "        print(log.format(epoch, train_loss, test_perf))"
   ]
  },
  {
   "cell_type": "code",
   "execution_count": 38,
   "metadata": {},
   "outputs": [
    {
     "data": {
      "text/plain": [
       "<matplotlib.legend.Legend at 0x2977ac3d0>"
      ]
     },
     "execution_count": 38,
     "metadata": {},
     "output_type": "execute_result"
    },
    {
     "data": {
      "image/png": "[encoded data removed]",
      "text/plain": [
       "<Figure size 1000x400 with 1 Axes>"
      ]
     },
     "metadata": {},
     "output_type": "display_data"
    }
   ],
   "source": [
    "fig, ax = plt.subplots(figsize=(10, 4), layout='constrained')\n",
    "ax.plot(epoch_list, loss_list, label='train losss')  \n",
    "ax.plot(epoch_list, test_perf_list, label='test loss') \n",
    "ax.set_xlabel('epochs')  \n",
    "ax.set_title(\"Results\") \n",
    "ax.legend()"
   ]
  },
  {
   "cell_type": "code",
   "execution_count": 11,
   "metadata": {},
   "outputs": [
    {
     "name": "stderr",
     "output_type": "stream",
     "text": [
      "/var/folders/r1/th8n4s051tj1ccx1kpqg8kqh0000gn/T/ipykernel_28666/2978358536.py:13: UserWarning: To copy construct from a tensor, it is recommended to use sourceTensor.clone().detach() or sourceTensor.clone().detach().requires_grad_(True), rather than torch.tensor(sourceTensor).\n",
      "  target_final = torch.tensor(targets)\n",
      "/var/folders/r1/th8n4s051tj1ccx1kpqg8kqh0000gn/T/ipykernel_28666/2978358536.py:14: UserWarning: To copy construct from a tensor, it is recommended to use sourceTensor.clone().detach() or sourceTensor.clone().detach().requires_grad_(True), rather than torch.tensor(sourceTensor).\n",
      "  preds_final = torch.tensor(preds)\n"
     ]
    },
    {
     "ename": "ValueError",
     "evalue": "Classification metrics can't handle a mix of binary and continuous targets",
     "output_type": "error",
     "traceback": [
      "\u001b[0;31m---------------------------------------------------------------------------\u001b[0m",
      "\u001b[0;31mValueError\u001b[0m                                Traceback (most recent call last)",
      "Cell \u001b[0;32mIn[11], line 21\u001b[0m\n\u001b[1;32m     16\u001b[0m \u001b[39m# metric(preds_final, target_final)\u001b[39;00m\n\u001b[1;32m     19\u001b[0m \u001b[39mfrom\u001b[39;00m \u001b[39msklearn\u001b[39;00m\u001b[39m.\u001b[39;00m\u001b[39mmetrics\u001b[39;00m \u001b[39mimport\u001b[39;00m confusion_matrix\n\u001b[0;32m---> 21\u001b[0m confusion_matrix(targets, preds)\n",
      "File \u001b[0;32m~/School/projectGNNs/GraphNeuralNetworks-ICAPS/.venv/lib/python3.9/site-packages/sklearn/metrics/_classification.py:317\u001b[0m, in \u001b[0;36mconfusion_matrix\u001b[0;34m(y_true, y_pred, labels, sample_weight, normalize)\u001b[0m\n\u001b[1;32m    232\u001b[0m \u001b[39mdef\u001b[39;00m \u001b[39mconfusion_matrix\u001b[39m(\n\u001b[1;32m    233\u001b[0m     y_true, y_pred, \u001b[39m*\u001b[39m, labels\u001b[39m=\u001b[39m\u001b[39mNone\u001b[39;00m, sample_weight\u001b[39m=\u001b[39m\u001b[39mNone\u001b[39;00m, normalize\u001b[39m=\u001b[39m\u001b[39mNone\u001b[39;00m\n\u001b[1;32m    234\u001b[0m ):\n\u001b[1;32m    235\u001b[0m     \u001b[39m\"\"\"Compute confusion matrix to evaluate the accuracy of a classification.\u001b[39;00m\n\u001b[1;32m    236\u001b[0m \n\u001b[1;32m    237\u001b[0m \u001b[39m    By definition a confusion matrix :math:`C` is such that :math:`C_{i, j}`\u001b[39;00m\n\u001b[0;32m   (...)\u001b[0m\n\u001b[1;32m    315\u001b[0m \u001b[39m    (0, 2, 1, 1)\u001b[39;00m\n\u001b[1;32m    316\u001b[0m \u001b[39m    \"\"\"\u001b[39;00m\n\u001b[0;32m--> 317\u001b[0m     y_type, y_true, y_pred \u001b[39m=\u001b[39m _check_targets(y_true, y_pred)\n\u001b[1;32m    318\u001b[0m     \u001b[39mif\u001b[39;00m y_type \u001b[39mnot\u001b[39;00m \u001b[39min\u001b[39;00m (\u001b[39m\"\u001b[39m\u001b[39mbinary\u001b[39m\u001b[39m\"\u001b[39m, \u001b[39m\"\u001b[39m\u001b[39mmulticlass\u001b[39m\u001b[39m\"\u001b[39m):\n\u001b[1;32m    319\u001b[0m         \u001b[39mraise\u001b[39;00m \u001b[39mValueError\u001b[39;00m(\u001b[39m\"\u001b[39m\u001b[39m%s\u001b[39;00m\u001b[39m is not supported\u001b[39m\u001b[39m\"\u001b[39m \u001b[39m%\u001b[39m y_type)\n",
      "File \u001b[0;32m~/School/projectGNNs/GraphNeuralNetworks-ICAPS/.venv/lib/python3.9/site-packages/sklearn/metrics/_classification.py:95\u001b[0m, in \u001b[0;36m_check_targets\u001b[0;34m(y_true, y_pred)\u001b[0m\n\u001b[1;32m     92\u001b[0m     y_type \u001b[39m=\u001b[39m {\u001b[39m\"\u001b[39m\u001b[39mmulticlass\u001b[39m\u001b[39m\"\u001b[39m}\n\u001b[1;32m     94\u001b[0m \u001b[39mif\u001b[39;00m \u001b[39mlen\u001b[39m(y_type) \u001b[39m>\u001b[39m \u001b[39m1\u001b[39m:\n\u001b[0;32m---> 95\u001b[0m     \u001b[39mraise\u001b[39;00m \u001b[39mValueError\u001b[39;00m(\n\u001b[1;32m     96\u001b[0m         \u001b[39m\"\u001b[39m\u001b[39mClassification metrics can\u001b[39m\u001b[39m'\u001b[39m\u001b[39mt handle a mix of \u001b[39m\u001b[39m{0}\u001b[39;00m\u001b[39m and \u001b[39m\u001b[39m{1}\u001b[39;00m\u001b[39m targets\u001b[39m\u001b[39m\"\u001b[39m\u001b[39m.\u001b[39mformat(\n\u001b[1;32m     97\u001b[0m             type_true, type_pred\n\u001b[1;32m     98\u001b[0m         )\n\u001b[1;32m     99\u001b[0m     )\n\u001b[1;32m    101\u001b[0m \u001b[39m# We can't have more than one value on y_type => The set is no more needed\u001b[39;00m\n\u001b[1;32m    102\u001b[0m y_type \u001b[39m=\u001b[39m y_type\u001b[39m.\u001b[39mpop()\n",
      "\u001b[0;31mValueError\u001b[0m: Classification metrics can't handle a mix of binary and continuous targets"
     ]
    }
   ],
   "source": [
    "from torchmetrics.classification import BinaryConfusionMatrix\n",
    "\n",
    "# target, preds = test()\n",
    "# target_conf.append(target)\n",
    "# preds_conf.append(preds)\n",
    "\n",
    "loss, targets, preds = test()\n",
    "\n",
    "\n",
    "# target, pred = evaluate_and_return_confusion()\n",
    "\n",
    "\n",
    "target_final = torch.tensor(targets)\n",
    "preds_final = torch.tensor(preds)\n",
    "metric = BinaryConfusionMatrix()\n",
    "# metric(preds_final, target_final)\n",
    "\n",
    "\n",
    "from sklearn.metrics import confusion_matrix\n",
    "\n",
    "confusion_matrix(targets, preds)\n",
    "\n"
   ]
  },
  {
   "cell_type": "code",
   "execution_count": 12,
   "metadata": {},
   "outputs": [
    {
     "name": "stdout",
     "output_type": "stream",
     "text": [
      "test set size: 110557\n",
      "trues: 0.06013187766075134\n",
      "ones: 0.06013187766075134\n",
      "pred test set size: 110557\n",
      "pred trues: 0.9298194050788879\n"
     ]
    }
   ],
   "source": [
    "test_set_size = len(targets)\n",
    "print(f\"test set size: {test_set_size}\")\n",
    "trues = targets.sum()\n",
    "\n",
    "print(f\"trues: {trues/test_set_size}\")\n",
    "\n",
    "ones = (targets == 1).sum()\n",
    "print(f\"ones: {ones/test_set_size}\")\n",
    "\n",
    "\n",
    "pred_test_size = len(preds)\n",
    "print(f\"pred test set size: {pred_test_size}\")\n",
    "pred_trues = preds.sum()\n",
    "print(f\"pred trues: {pred_trues/pred_test_size}\")"
   ]
  },
  {
   "cell_type": "code",
   "execution_count": 13,
   "metadata": {},
   "outputs": [
    {
     "data": {
      "text/plain": [
       "<torch_geometric.loader.dataloader.DataLoader at 0x288976070>"
      ]
     },
     "execution_count": 13,
     "metadata": {},
     "output_type": "execute_result"
    }
   ],
   "source": [
    "test_loader"
   ]
  },
  {
   "cell_type": "code",
   "execution_count": 14,
   "metadata": {},
   "outputs": [],
   "source": [
    "# import torch.nn.functional as F\n",
    "\n",
    "# def train():\n",
    "#     for i in range(1, 100):\n",
    "#         if i % 10 == 0:\n",
    "#             print(f'Epoch: {i:03d}, Loss: {loss:.4f}')\n",
    "#         model.train()\n",
    "#         optimizer.zero_grad()\n",
    "#         out = model(our_data.x_dict, our_data.edge_index_dict)\n",
    "\n",
    "#         pred = out['operator']\n",
    "#         true_label = our_data['operator'].y\n",
    "\n",
    "#         print(pred[0])\n",
    "#         # print(true_label)\n",
    "#         loss = F.binary_cross_entropy_with_logits(pred, true_label)\n",
    "#         loss.backward()\n",
    "#         optimizer.step()\n",
    "#         # return float(loss)\n",
    "\n",
    "# train()"
   ]
  },
  {
   "cell_type": "code",
   "execution_count": 15,
   "metadata": {},
   "outputs": [],
   "source": [
    "# def train():\n",
    "#     model.train()\n",
    "\n",
    "#     total_examples = total_loss = 0\n",
    "#     for batch in train_loader:\n",
    "#         optimizer.zero_grad()\n",
    "#         batch = batch.to('cuda:0')\n",
    "#         batch_size = batch['paper'].batch_size\n",
    "#         out = model(batch.x_dict, batch.edge_index_dict)\n",
    "#         loss = F.cross_entropy(out['paper'][:batch_size],\n",
    "#                                batch['paper'].y[:batch_size])\n",
    "#         loss.backward()\n",
    "#         optimizer.step()\n",
    "\n",
    "#         total_examples += batch_size\n",
    "#         total_loss += float(loss) * batch_size\n",
    "\n",
    "#     return total_loss / total_examples"
   ]
  },
  {
   "cell_type": "code",
   "execution_count": 16,
   "metadata": {},
   "outputs": [],
   "source": [
    "# model.eval()\n",
    "\n",
    "# out = model(our_data.x_dict, our_data.edge_index_dict)\n",
    "# out[\"variable\"]"
   ]
  },
  {
   "cell_type": "code",
   "execution_count": 21,
   "metadata": {},
   "outputs": [
    {
     "ename": "NameError",
     "evalue": "name 'nunber_of_ones' is not defined",
     "output_type": "error",
     "traceback": [
      "\u001b[0;31m---------------------------------------------------------------------------\u001b[0m",
      "\u001b[0;31mNameError\u001b[0m                                 Traceback (most recent call last)",
      "Cell \u001b[0;32mIn[21], line 7\u001b[0m\n\u001b[1;32m      3\u001b[0m a \u001b[39m=\u001b[39m torch\u001b[39m.\u001b[39mtensor([\u001b[39m1\u001b[39m,\u001b[39m2\u001b[39m,\u001b[39m3\u001b[39m])\n\u001b[1;32m      5\u001b[0m a[b \u001b[39m!=\u001b[39m \u001b[39mTrue\u001b[39;00m] \u001b[39m=\u001b[39m \u001b[39m7\u001b[39m\n\u001b[0;32m----> 7\u001b[0m train_weights[batch[\u001b[39m'\u001b[39m\u001b[39moperator\u001b[39m\u001b[39m'\u001b[39m]\u001b[39m.\u001b[39my \u001b[39m==\u001b[39m \u001b[39m0\u001b[39m] \u001b[39m=\u001b[39m nunber_of_ones\u001b[39m/\u001b[39mnunber_of_zeros\n\u001b[1;32m      8\u001b[0m a\n",
      "\u001b[0;31mNameError\u001b[0m: name 'nunber_of_ones' is not defined"
     ]
    }
   ],
   "source": [
    "b = [True, False, True]\n",
    "\n",
    "a = torch.tensor([1,2,3])\n",
    "\n",
    "a[b != True] = 7\n",
    "\n",
    "train_weights[batch['operator'].y == 0] = nunber_of_ones/nunber_of_zeros\n",
    "a"
   ]
  },
  {
   "cell_type": "code",
   "execution_count": 70,
   "metadata": {},
   "outputs": [
    {
     "name": "stdout",
     "output_type": "stream",
     "text": [
      "tensor([[1.],\n",
      "        [1.],\n",
      "        [1.],\n",
      "        [0.],\n",
      "        [0.],\n",
      "        [0.],\n",
      "        [1.],\n",
      "        [1.],\n",
      "        [1.],\n",
      "        [1.]])\n",
      "tensor([[3.],\n",
      "        [3.],\n",
      "        [3.],\n",
      "        [5.],\n",
      "        [5.],\n",
      "        [5.],\n",
      "        [3.],\n",
      "        [3.],\n",
      "        [3.],\n",
      "        [3.]])\n"
     ]
    }
   ],
   "source": [
    "batch = next(iter(train_loader))\n",
    "batch['operator'].y\n",
    "\n",
    "to_change = batch[\"operator\"].y[:10]\n",
    "\n",
    "\n",
    "weights  = torch.ones_like(to_change)\n",
    "\n",
    "weights[to_change == 1] = 3\n",
    "weights[to_change == 0] = 5\n",
    "\n",
    "print(to_change)\n",
    "print(weights)"
   ]
  },
  {
   "cell_type": "code",
   "execution_count": 19,
   "metadata": {},
   "outputs": [
    {
     "name": "stderr",
     "output_type": "stream",
     "text": [
      "/Users/piotrgzubicki/School/projectGNNs/GraphNeuralNetworks-ICAPS/.venv/lib/python3.9/site-packages/torch/_tensor.py:761: UserWarning: non-inplace resize is deprecated\n",
      "  warnings.warn(\"non-inplace resize is deprecated\")\n"
     ]
    },
    {
     "data": {
      "text/plain": [
       "tensor([1., 1., 1., 1., 1., 1., 1., 1., 1., 1., 1., 1., 1., 1., 1.])"
      ]
     },
     "execution_count": 19,
     "metadata": {},
     "output_type": "execute_result"
    }
   ],
   "source": [
    "batch[\"operator\"].y\n",
    "train_weights = torch.ones(15).resize(15,1)\n",
    "torch.flatten(train_weights)"
   ]
  },
  {
   "cell_type": "code",
   "execution_count": 20,
   "metadata": {},
   "outputs": [],
   "source": [
    "total_size = 15\n",
    "batch = next(iter(train_loader))\n",
    "batch = batch[0]\n",
    "test_weight = torch.ones(total_size).reshape(total_size,1)\n",
    "test_weight[batch['operator'].y[0:15] == 0] = 15/5\n",
    "torch.flatten(test_weight, -2)\n",
    "\n",
    "x = torch.Tensor([1,2,3])\n",
    "# batch"
   ]
  },
  {
   "cell_type": "code",
   "execution_count": null,
   "metadata": {},
   "outputs": [],
   "source": []
  }
 ],
 "metadata": {
  "kernelspec": {
   "display_name": ".venv",
   "language": "python",
   "name": "python3"
  },
  "language_info": {
   "codemirror_mode": {
    "name": "ipython",
    "version": 3
   },
   "file_extension": ".py",
   "mimetype": "text/x-python",
   "name": "python",
   "nbconvert_exporter": "python",
   "pygments_lexer": "ipython3",
   "version": "3.9.15"
  },
  "orig_nbformat": 4,
  "vscode": {
   "interpreter": {
    "hash": "d1172e531ab8478d4e10fbb97f559e9ef9ccd07a6866ca5c6a8d4c17cc92a306"
   }
  }
 },
 "nbformat": 4,
 "nbformat_minor": 2
}
