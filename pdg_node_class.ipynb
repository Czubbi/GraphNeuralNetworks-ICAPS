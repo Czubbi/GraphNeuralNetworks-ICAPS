{
 "cells": [
  {
   "cell_type": "code",
   "execution_count": 1,
   "metadata": {},
   "outputs": [
    {
     "name": "stderr",
     "output_type": "stream",
     "text": [
      "/Users/bartoszlachowicz/Desktop/CodeProjects/GraphNeuralNetworks-ICAPS/.venv/lib/python3.9/site-packages/tqdm/auto.py:22: TqdmWarning: IProgress not found. Please update jupyter and ipywidgets. See https://ipywidgets.readthedocs.io/en/stable/user_install.html\n",
      "  from .autonotebook import tqdm as notebook_tqdm\n"
     ]
    },
    {
     "name": "stdout",
     "output_type": "stream",
     "text": [
      "1.13.1\n"
     ]
    }
   ],
   "source": [
    "# Install required packages.\n",
    "import os\n",
    "import torch\n",
    "os.environ['TORCH'] = torch.__version__\n",
    "print(torch.__version__)\n",
    "\n",
    "import pandas as pd\n",
    "import numpy as np\n",
    "\n",
    "# Helper function for visualization.\n",
    "%matplotlib inline\n",
    "import matplotlib.pyplot as plt\n",
    "from sklearn.manifold import TSNE\n",
    "\n",
    "import torch_geometric.transforms as T\n",
    "import torch.nn.functional as F\n",
    "from torch_geometric.loader import DataLoader\n",
    "from torch_geometric.datasets import OGB_MAG\n",
    "from torch_geometric.nn import SAGEConv, to_hetero, GATConv, Linear\n",
    "# impoort HeteroData\n",
    "from torch_geometric.data import HeteroData\n",
    "\n",
    "\n",
    "from sklearn.metrics import confusion_matrix\n",
    "from sklearn.metrics import precision_recall_fscore_support\n",
    "\n",
    "from torch.nn import BCEWithLogitsLoss\n",
    "\n",
    "import warnings\n",
    "warnings.filterwarnings('ignore') \n",
    "\n"
   ]
  },
  {
   "cell_type": "code",
   "execution_count": 37,
   "metadata": {},
   "outputs": [
    {
     "name": "stderr",
     "output_type": "stream",
     "text": [
      "No artists with labels found to put in legend.  Note that artists whose label start with an underscore are ignored when legend() is called with no argument.\n"
     ]
    },
    {
     "name": "stdout",
     "output_type": "stream",
     "text": [
      "Recall for treshold 0.1: (1.0, 0.0)\n",
      "Recall for treshold 0.2: (1.0, 1.0)\n",
      "Recall for treshold 0.3: (0.3333333333333333, 1.0)\n"
     ]
    },
    {
     "data": {
      "image/png": "[encoded data removed]",
      "text/plain": [
       "<Figure size 640x480 with 1 Axes>"
      ]
     },
     "metadata": {},
     "output_type": "display_data"
    }
   ],
   "source": [
    "data = np.array([0.1,0.2,0.2,0.3])\n",
    "\n",
    "true_data = np.array([0,1,1,1])\n",
    "\n",
    "def treshhold_result(data, true_data, treshold):\n",
    "    changed_data = (data >= treshold).astype(int)\n",
    "    recall_positive = precision_recall_fscore_support(true_data, changed_data, average=None)[1][1]\n",
    "    recall_negative = precision_recall_fscore_support(true_data, changed_data, average=None)[1][0]\n",
    "\n",
    "    return recall_positive, recall_negative\n",
    "\n",
    "\n",
    "def plot_recalls(treshold, result):\n",
    "    bar_width = 0.01\n",
    "\n",
    "    recall_positive = result[0]\n",
    "    recall_negative = result[1]\n",
    "    plt.title(\"Visualization of recall for positive and negative class\")\n",
    "    plt.legend(['Positive', 'Negative'], loc='best')\n",
    "    plt.xlabel(\"Fixed treshold value\")\n",
    "    plt.ylabel(\"Recalls\")\n",
    "\n",
    "    plt.bar(treshold + bar_width/2, recall_positive, bar_width,  color='green', label='Positive')\n",
    "    plt.bar(treshold - bar_width/2, recall_negative, bar_width, color='red', label='Negative')\n",
    "\n",
    "\n",
    "def plot_all_recalls(data):\n",
    "\n",
    "    plt.legend()\n",
    "    for treshold, result in data.items():\n",
    "        plot_recalls(treshold, result)\n",
    "    \n",
    "    plt.show()\n",
    "\n",
    "result_01 = treshhold_result(data, true_data, 0.1)\n",
    "result_02 = treshhold_result(data, true_data, 0.2)\n",
    "result_03 = treshhold_result(data, true_data, 0.3)\n",
    "\n",
    "print(f\"Recall for treshold 0.1: {result_01}\")\n",
    "print(f\"Recall for treshold 0.2: {result_02}\")\n",
    "print(f\"Recall for treshold 0.3: {result_03}\")\n",
    "\n",
    "data = {\n",
    "    0.1: result_01,\n",
    "    0.2: result_02,\n",
    "    0.3: result_03\n",
    "}\n",
    "\n",
    "plot_all_recalls(data)"
   ]
  },
  {
   "cell_type": "code",
   "execution_count": 38,
   "metadata": {},
   "outputs": [],
   "source": [
    "def node_df_to_torch(df: pd.DataFrame):\n",
    "    return torch.tensor(df.values, dtype=torch.float)\n",
    "\n",
    "def edge_df_to_torch(df: pd.DataFrame):\n",
    "    # assert edge_type in [\"VarVal\",\"ValOp\", \"OpVal\"]\n",
    "        return torch.tensor(df.index, dtype=torch.long).t().contiguous()\n",
    "\n",
    "def problem_dfs(problem_path):\n",
    "    \"\"\"\n",
    "    Returns the dataframes for the variables, values, operators, and their respective edges\n",
    "    \"\"\"\n",
    "    variables_df = pd.read_csv(os.path.join(problem_path, 'variables.csv'), index_col=0)\n",
    "    variables_df = variables_df.drop(columns=[\"is_goal\"])\n",
    "    \n",
    "    values_df = pd.read_csv(os.path.join(problem_path, 'values.csv'), index_col=0)\n",
    "\n",
    "    operators_df = pd.read_csv(os.path.join(problem_path, 'operators.csv'), index_col=0)\n",
    "\n",
    "    val_var_df = pd.read_csv(os.path.join(problem_path, 'ValVar_edges.csv'), index_col=[0,1])\n",
    "    val_op_df = pd.read_csv(os.path.join(problem_path, 'ValOp_edges.csv'), index_col=[0,1])\n",
    "    val_op_df = val_op_df.drop(columns=[\"label\"])\n",
    "    op_val_df = pd.read_csv(os.path.join(problem_path, 'OpVal_edges.csv'), index_col=[0,1])\n",
    "    op_val_df = op_val_df.drop(columns=[\"label\"])\n",
    "\n",
    "    return variables_df, values_df, operators_df, val_var_df, val_op_df, op_val_df\n",
    "\n",
    "def build_hetero(\n",
    "    variables_df,\n",
    "    values_df,\n",
    "    operators_df,\n",
    "    val_var_df,\n",
    "    val_op_df,\n",
    "    op_val_df,\n",
    "):\n",
    "    hetero_data = HeteroData()\n",
    "    hetero_data['variable'].x = node_df_to_torch(variables_df)\n",
    "    hetero_data['value'].x = node_df_to_torch(values_df)\n",
    "    hetero_data['operator'].x = x = torch.empty(len(operators_df), 0)\n",
    "    hetero_data['operator'].y = node_df_to_torch(operators_df)\n",
    "\n",
    "    hetero_data['variable', 'has_value', 'value'].edge_index = edge_df_to_torch(val_var_df)\n",
    "    hetero_data['value', 'precondition', 'operator'].edge_index = edge_df_to_torch(val_op_df)\n",
    "    hetero_data['operator', 'effect', 'value'].edge_index = edge_df_to_torch(op_val_df)\n",
    "\n",
    "    # VarVal = edge_df_to_torch(val_var_df)\n",
    "    # ValOp = edge_df_to_torch(val_op_df)\n",
    "    # OpVal = edge_df_to_torch(op_val_df)\n",
    "\n",
    "\n",
    "    # return hetero_data\n",
    "    return T.ToUndirected()(hetero_data)\n",
    "\n",
    "\n",
    "def build_data_set():\n",
    "    path = \"big_dataset/satellite\" \n",
    "    dataset = []\n",
    "    dir_list = os.listdir(path)[:500]\n",
    "    # print(dir_list)\n",
    "    # dir_list = ['p907_4_2_2_7_3']*3\n",
    "    # dir_list = os.listdir(path)\n",
    "    for problem in dir_list:\n",
    "        dfs = problem_dfs(os.path.join(path, problem))\n",
    "        var_df, val_df, op_df, val_var_df, val_op_df, op_val_df = dfs\n",
    "        temp_date = build_hetero(*dfs)\n",
    "        dataset.append(temp_date)\n",
    "    # dfs = problem_dfs(problem_path=\"z_test_data\")\n",
    "    # var_df, val_df, op_df, val_var_df, val_op_df, op_val_df = dfs\n",
    "    # temp_date = build_hetero(*dfs)\n",
    "    # dataset.append(temp_date)\n",
    "    return dataset\n",
    "\n",
    "\n",
    "def split_and_out_data_laoder():\n",
    "    dataset = build_data_set()\n",
    "    dataset_size = len(dataset)\n",
    "    indices = list(range(dataset_size))\n",
    "    split = int(np.floor(0.25 * dataset_size))\n",
    "    if True :\n",
    "        np.random.seed(42)\n",
    "        np.random.shuffle(indices)\n",
    "    train_indices, test_indicies = indices[split:], indices[:split]\n",
    "    \n",
    "    train_set = []\n",
    "    test_set = []\n",
    "\n",
    "    for i in train_indices:\n",
    "        train_set.append(dataset[i])\n",
    "    for i in test_indicies:\n",
    "        test_set.append(dataset[i])\n",
    "\n",
    "    train_loader = DataLoader(train_set, batch_size=16, shuffle=True)\n",
    "    # test_loader = train_loader\n",
    "    test_loader = DataLoader(test_set, batch_size=len(test_set), shuffle=True)\n",
    "    # test_loader = test_set\n",
    "    return train_loader, test_loader\n",
    "\n"
   ]
  },
  {
   "cell_type": "code",
   "execution_count": 309,
   "metadata": {},
   "outputs": [
    {
     "name": "stdout",
     "output_type": "stream",
     "text": [
      "tensor(414668.)\n",
      "tensor(25711.)\n",
      "tensor(0.0584)\n",
      "tensor(0.9416)\n"
     ]
    }
   ],
   "source": [
    "dataset = build_data_set()\n",
    "total_negs = 0\n",
    "total_pos = 0\n",
    "for i in dataset:\n",
    "    poss=i[\"operator\"].y.sum()\n",
    "    negs = len(i[\"operator\"].y) - poss\n",
    "    total_negs += negs\n",
    "    total_pos += poss\n",
    "# count all negative samples of the operator df\n",
    "print(total_negs)\n",
    "print(total_pos)\n",
    "\n",
    "weight_pos = total_pos/(total_pos+total_negs)\n",
    "weight_neg = total_negs/(total_pos+total_negs)\n",
    "print(weight_pos)\n",
    "print(weight_neg)"
   ]
  },
  {
   "cell_type": "code",
   "execution_count": null,
   "metadata": {},
   "outputs": [],
   "source": []
  },
  {
   "cell_type": "code",
   "execution_count": 352,
   "metadata": {},
   "outputs": [],
   "source": [
    "train_loader, test_loader = split_and_out_data_laoder()\n",
    "\n",
    "\n",
    "class GNN(torch.nn.Module):\n",
    "    def __init__(self, hidden_channels, out_channels):\n",
    "        super().__init__()\n",
    "        self.conv1 = GATConv((-1, -1), hidden_channels, add_self_loops=False)\n",
    "        self.lin1 = Linear(-1, hidden_channels)\n",
    "        self.conv2 = GATConv((-1, -1), out_channels, add_self_loops=False)\n",
    "        self.lin2 = Linear(-1, out_channels)\n",
    "\n",
    "    def forward(self, x, edge_index):\n",
    "        x = self.conv1(x, edge_index) + self.lin1(x)\n",
    "        x = x.relu()\n",
    "        x = self.conv2(x, edge_index) + self.lin2(x)\n",
    "        x = x.sigmoid()\n",
    "        return x\n",
    "\n",
    "\n",
    "model = GNN(hidden_channels=64, out_channels=1)\n",
    "model = to_hetero(model, next(iter(train_loader)).metadata(), aggr='sum')\n",
    "optimizer = torch.optim.Adam(model.parameters())"
   ]
  },
  {
   "cell_type": "code",
   "execution_count": 353,
   "metadata": {},
   "outputs": [],
   "source": [
    "weight_pos = 19*2\n",
    "\n",
    "def train():\n",
    "    model.train()\n",
    "\n",
    "    for batch in train_loader:\n",
    "        # print(f'test batch: {batch}')\n",
    "\n",
    "        total_size = len(batch['operator'].y)\n",
    "\n",
    "        train_weights = torch.ones_like(batch['operator'].y)\n",
    "        nunber_of_ones = batch['operator'].y.sum()\n",
    "        nunber_of_zeros = total_size - nunber_of_ones\n",
    "        train_weights[batch['operator'].y == 0] = 1\n",
    "        train_weights[batch['operator'].y == 1] = weight_pos\n",
    "        # print(batch.edge_index_dict)\n",
    "\n",
    "        optimizer.zero_grad()\n",
    "        out = model(batch.x_dict, batch.edge_index_dict)\n",
    "        # metric_loss = torch.nn.BCEWithLogitsLoss()\n",
    "        # loss = metric_loss(out['operator'], batch['operator'].y)\n",
    "        loss = F.binary_cross_entropy(out['operator'],\n",
    "                               batch['operator'].y, weight=train_weights)\n",
    "        loss.backward()\n",
    "        optimizer.step()\n",
    "      \n",
    "\n",
    "    return loss, out[\"operator\"], batch['operator'].y\n",
    "\n",
    "@torch.no_grad()\n",
    "def test():\n",
    "    model.eval()\n",
    "    i=0\n",
    "    for batch in test_loader:\n",
    "        # print(f'test batch: {batch}')\n",
    "        total_size = len(batch['operator'].y)\n",
    "        # test_weights = torch.ones(total_size).reshape(total_size,1)\n",
    "        test_weights = torch.ones_like(batch['operator'].y)\n",
    "        nunber_of_ones = batch['operator'].y.sum()\n",
    "        nunber_of_zeros = total_size - nunber_of_ones\n",
    "        test_weights[batch['operator'].y == 0] = 1\n",
    "        test_weights[batch['operator'].y == 1] = weight_pos\n",
    "        assert i == 0\n",
    "\n",
    "        # test_flattened = torch.reshape(test_weights, (total_size, 1))\n",
    "        # print(batch.edge_index_dict)\n",
    "        out = model(batch.x_dict, batch.edge_index_dict)\n",
    "        # BCEWithLogitsLoss = torch.nn.BCEWithLogitsLoss()\n",
    "        loss = F.binary_cross_entropy(out['operator'],\n",
    "                                batch['operator'].y, weight=test_weights)\n",
    "        target = batch['operator'].y\n",
    "        preds = out['operator']\n",
    "        i+=1\n",
    "    return loss, target, preds\n",
    "\n",
    "\n",
    "def evaluate_and_return_confusion():\n",
    "    model.eval()\n",
    "    targets = []\n",
    "    preds = []\n",
    "    for batch in test_loader:\n",
    "        out = model(batch.x_dict, batch.edge_index_dict)\n",
    "        target = batch['operator'].y\n",
    "        pred = out['operator']\n",
    "        targets.append(target)\n",
    "        preds.append(pred)\n",
    "    return targets, preds\n"
   ]
  },
  {
   "cell_type": "code",
   "execution_count": 354,
   "metadata": {},
   "outputs": [
    {
     "name": "stdout",
     "output_type": "stream",
     "text": [
      "Epoch: 001, Loss: 1.7609, Test: 1.9066\n",
      "  PredNeg: 0, PredPos: 7350, OrgNeg: 7014, OrgPos: 336\n",
      "    Neg:    Precision: 0.0, Recall: 0.0\n",
      "    Pos:    Precision: 0.045714285714285714, Recall: 1.0\n",
      "Epoch: 002, Loss: 2.0916, Test: 1.8562\n",
      "  PredNeg: 0, PredPos: 6820, OrgNeg: 6279, OrgPos: 541\n",
      "    Neg:    Precision: 0.0, Recall: 0.0\n",
      "    Pos:    Precision: 0.07932551319648094, Recall: 1.0\n",
      "Epoch: 003, Loss: 1.7390, Test: 1.8240\n",
      "  PredNeg: 0, PredPos: 6880, OrgNeg: 6493, OrgPos: 387\n",
      "    Neg:    Precision: 0.0, Recall: 0.0\n",
      "    Pos:    Precision: 0.05625, Recall: 1.0\n",
      "Epoch: 004, Loss: 2.5109, Test: 1.8019\n",
      "  PredNeg: 0, PredPos: 7366, OrgNeg: 6535, OrgPos: 831\n",
      "    Neg:    Precision: 0.0, Recall: 0.0\n",
      "    Pos:    Precision: 0.1128156394243823, Recall: 1.0\n",
      "Epoch: 005, Loss: 2.0321, Test: 1.7893\n",
      "  PredNeg: 0, PredPos: 7601, OrgNeg: 7030, OrgPos: 571\n",
      "    Neg:    Precision: 0.0, Recall: 0.0\n",
      "    Pos:    Precision: 0.07512169451387975, Recall: 1.0\n",
      "Epoch: 006, Loss: 1.7161, Test: 1.7823\n",
      "  PredNeg: 0, PredPos: 5233, OrgNeg: 4950, OrgPos: 283\n",
      "    Neg:    Precision: 0.0, Recall: 0.0\n",
      "    Pos:    Precision: 0.05407987769921651, Recall: 1.0\n",
      "Epoch: 007, Loss: 1.7766, Test: 1.7757\n",
      "  PredNeg: 0, PredPos: 8159, OrgNeg: 7691, OrgPos: 468\n",
      "    Neg:    Precision: 0.0, Recall: 0.0\n",
      "    Pos:    Precision: 0.05735997058463047, Recall: 1.0\n",
      "Epoch: 008, Loss: 1.5908, Test: 1.7774\n",
      "  PredNeg: 106, PredPos: 7859, OrgNeg: 7601, OrgPos: 364\n",
      "    Neg:    Precision: 1.0, Recall: 0.01394553348243652\n",
      "    Pos:    Precision: 0.04631632523221784, Recall: 1.0\n",
      "Epoch: 009, Loss: 1.6850, Test: 1.7712\n",
      "  PredNeg: 64, PredPos: 4969, OrgNeg: 4766, OrgPos: 267\n",
      "    Neg:    Precision: 1.0, Recall: 0.013428451531682753\n",
      "    Pos:    Precision: 0.053733145502113104, Recall: 1.0\n",
      "Epoch: 010, Loss: 1.6465, Test: 1.7699\n",
      "  PredNeg: 132, PredPos: 4729, OrgNeg: 4616, OrgPos: 245\n",
      "    Neg:    Precision: 0.9696969696969697, Recall: 0.02772963604852686\n",
      "    Pos:    Precision: 0.050962148445760205, Recall: 0.9836734693877551\n",
      "Epoch: 011, Loss: 1.8008, Test: 1.7692\n",
      "  PredNeg: 78, PredPos: 5285, OrgNeg: 5041, OrgPos: 322\n",
      "    Neg:    Precision: 0.9871794871794872, Recall: 0.015274747073993256\n",
      "    Pos:    Precision: 0.06073793755912961, Recall: 0.9968944099378882\n",
      "Epoch: 012, Loss: 1.5948, Test: 1.7711\n",
      "  PredNeg: 120, PredPos: 7376, OrgNeg: 7145, OrgPos: 351\n",
      "    Neg:    Precision: 1.0, Recall: 0.016794961511546535\n",
      "    Pos:    Precision: 0.047586767895878526, Recall: 1.0\n",
      "Epoch: 013, Loss: 2.1231, Test: 1.7687\n",
      "  PredNeg: 88, PredPos: 3107, OrgNeg: 2885, OrgPos: 310\n",
      "    Neg:    Precision: 0.9772727272727273, Recall: 0.02980935875216638\n",
      "    Pos:    Precision: 0.09913099452848406, Recall: 0.9935483870967742\n",
      "Epoch: 014, Loss: 1.8807, Test: 1.7687\n",
      "  PredNeg: 113, PredPos: 7585, OrgNeg: 7174, OrgPos: 524\n",
      "    Neg:    Precision: 1.0, Recall: 0.015751324226373015\n",
      "    Pos:    Precision: 0.06908371786420567, Recall: 1.0\n",
      "Epoch: 015, Loss: 1.6711, Test: 1.7681\n",
      "  PredNeg: 161, PredPos: 8091, OrgNeg: 7829, OrgPos: 423\n",
      "    Neg:    Precision: 1.0, Recall: 0.020564567633158767\n",
      "    Pos:    Precision: 0.05228031145717464, Recall: 1.0\n",
      "Epoch: 016, Loss: 1.6565, Test: 1.7735\n",
      "  PredNeg: 106, PredPos: 8265, OrgNeg: 7943, OrgPos: 428\n",
      "    Neg:    Precision: 1.0, Recall: 0.013345083721515801\n",
      "    Pos:    Precision: 0.05178463399879008, Recall: 1.0\n",
      "Epoch: 017, Loss: 1.6063, Test: 1.7679\n",
      "  PredNeg: 99, PredPos: 4235, OrgNeg: 4133, OrgPos: 201\n",
      "    Neg:    Precision: 1.0, Recall: 0.02395354464069683\n",
      "    Pos:    Precision: 0.047461629279811096, Recall: 1.0\n",
      "Epoch: 018, Loss: 1.9438, Test: 1.7696\n",
      "  PredNeg: 141, PredPos: 4137, OrgNeg: 3948, OrgPos: 330\n",
      "    Neg:    Precision: 1.0, Recall: 0.03571428571428571\n",
      "    Pos:    Precision: 0.07976794778825236, Recall: 1.0\n",
      "Epoch: 019, Loss: 1.8363, Test: 1.7675\n",
      "  PredNeg: 114, PredPos: 8310, OrgNeg: 7909, OrgPos: 515\n",
      "    Neg:    Precision: 1.0, Recall: 0.014413958781135416\n",
      "    Pos:    Precision: 0.06197352587244284, Recall: 1.0\n",
      "Epoch: 020, Loss: 1.5080, Test: 1.7682\n",
      "  PredNeg: 61, PredPos: 7612, OrgNeg: 7373, OrgPos: 300\n",
      "    Neg:    Precision: 1.0, Recall: 0.0082734300827343\n",
      "    Pos:    Precision: 0.0394114555964267, Recall: 1.0\n",
      "Epoch: 021, Loss: 1.3063, Test: 1.7708\n",
      "  PredNeg: 153, PredPos: 6783, OrgNeg: 6760, OrgPos: 176\n",
      "    Neg:    Precision: 1.0, Recall: 0.022633136094674555\n",
      "    Pos:    Precision: 0.025947220993660623, Recall: 1.0\n",
      "Epoch: 022, Loss: 1.6713, Test: 1.7671\n",
      "  PredNeg: 136, PredPos: 5370, OrgNeg: 5215, OrgPos: 291\n",
      "    Neg:    Precision: 1.0, Recall: 0.02607861936720997\n",
      "    Pos:    Precision: 0.05418994413407821, Recall: 1.0\n",
      "Epoch: 023, Loss: 1.9100, Test: 1.7670\n",
      "  PredNeg: 82, PredPos: 5880, OrgNeg: 5527, OrgPos: 435\n",
      "    Neg:    Precision: 1.0, Recall: 0.01483625836801158\n",
      "    Pos:    Precision: 0.07397959183673469, Recall: 1.0\n",
      "Epoch: 024, Loss: 1.4800, Test: 1.7676\n",
      "  PredNeg: 256, PredPos: 6906, OrgNeg: 6905, OrgPos: 257\n",
      "    Neg:    Precision: 0.9609375, Recall: 0.035626357711803044\n",
      "    Pos:    Precision: 0.03576600057920649, Recall: 0.9610894941634242\n",
      "Epoch: 025, Loss: 1.9722, Test: 1.7690\n",
      "  PredNeg: 102, PredPos: 5209, OrgNeg: 4890, OrgPos: 421\n",
      "    Neg:    Precision: 1.0, Recall: 0.020858895705521473\n",
      "    Pos:    Precision: 0.08082165482818199, Recall: 1.0\n",
      "Epoch: 026, Loss: 1.6709, Test: 1.7668\n",
      "  PredNeg: 187, PredPos: 5802, OrgNeg: 5676, OrgPos: 313\n",
      "    Neg:    Precision: 1.0, Recall: 0.03294573643410853\n",
      "    Pos:    Precision: 0.05394691485694588, Recall: 1.0\n",
      "Epoch: 027, Loss: 1.5603, Test: 1.7669\n",
      "  PredNeg: 195, PredPos: 7262, OrgNeg: 7144, OrgPos: 313\n",
      "    Neg:    Precision: 0.9743589743589743, Recall: 0.026595744680851064\n",
      "    Pos:    Precision: 0.04241255852382264, Recall: 0.9840255591054313\n",
      "Epoch: 028, Loss: 1.5043, Test: 1.7687\n",
      "  PredNeg: 67, PredPos: 7603, OrgNeg: 7361, OrgPos: 309\n",
      "    Neg:    Precision: 1.0, Recall: 0.00910202418149708\n",
      "    Pos:    Precision: 0.040641851900565566, Recall: 1.0\n",
      "Epoch: 029, Loss: 1.4259, Test: 1.7666\n",
      "  PredNeg: 82, PredPos: 6548, OrgNeg: 6424, OrgPos: 206\n",
      "    Neg:    Precision: 1.0, Recall: 0.012764632627646327\n",
      "    Pos:    Precision: 0.031459987782529016, Recall: 1.0\n",
      "Epoch: 030, Loss: 1.3836, Test: 1.7678\n",
      "  PredNeg: 137, PredPos: 5235, OrgNeg: 5237, OrgPos: 135\n",
      "    Neg:    Precision: 0.9635036496350365, Recall: 0.025205270192858505\n",
      "    Pos:    Precision: 0.024832855778414518, Recall: 0.9629629629629629\n",
      "Epoch: 031, Loss: 1.6166, Test: 1.7674\n",
      "  PredNeg: 116, PredPos: 4532, OrgNeg: 4418, OrgPos: 230\n",
      "    Neg:    Precision: 1.0, Recall: 0.026256224535989137\n",
      "    Pos:    Precision: 0.050750220653133275, Recall: 1.0\n",
      "Epoch: 032, Loss: 2.5149, Test: 1.7660\n",
      "  PredNeg: 56, PredPos: 3717, OrgNeg: 3336, OrgPos: 437\n",
      "    Neg:    Precision: 1.0, Recall: 0.016786570743405275\n",
      "    Pos:    Precision: 0.11756793112725317, Recall: 1.0\n",
      "Epoch: 033, Loss: 1.8021, Test: 1.7727\n",
      "  PredNeg: 131, PredPos: 9436, OrgNeg: 9011, OrgPos: 556\n",
      "    Neg:    Precision: 1.0, Recall: 0.014537787149040061\n",
      "    Pos:    Precision: 0.05892327257312421, Recall: 1.0\n",
      "Epoch: 034, Loss: 1.8929, Test: 1.7659\n",
      "  PredNeg: 101, PredPos: 5573, OrgNeg: 5295, OrgPos: 379\n",
      "    Neg:    Precision: 1.0, Recall: 0.01907459867799811\n",
      "    Pos:    Precision: 0.06800645971649022, Recall: 1.0\n",
      "Epoch: 035, Loss: 1.6035, Test: 1.7660\n",
      "  PredNeg: 56, PredPos: 4253, OrgNeg: 4120, OrgPos: 189\n",
      "    Neg:    Precision: 0.9642857142857143, Recall: 0.013106796116504855\n",
      "    Pos:    Precision: 0.04396896308488126, Recall: 0.9894179894179894\n",
      "Epoch: 036, Loss: 2.4845, Test: 1.7672\n",
      "  PredNeg: 146, PredPos: 4343, OrgNeg: 3990, OrgPos: 499\n",
      "    Neg:    Precision: 0.9383561643835616, Recall: 0.03433583959899749\n",
      "    Pos:    Precision: 0.11282523601197329, Recall: 0.9819639278557114\n",
      "Epoch: 037, Loss: 1.5816, Test: 1.7671\n",
      "  PredNeg: 179, PredPos: 6285, OrgNeg: 6153, OrgPos: 311\n",
      "    Neg:    Precision: 0.9888268156424581, Recall: 0.028766455387615797\n",
      "    Pos:    Precision: 0.04916467780429594, Recall: 0.9935691318327974\n",
      "Epoch: 038, Loss: 1.5491, Test: 1.7658\n",
      "  PredNeg: 123, PredPos: 7174, OrgNeg: 6984, OrgPos: 313\n",
      "    Neg:    Precision: 1.0, Recall: 0.01761168384879725\n",
      "    Pos:    Precision: 0.04362977418455534, Recall: 1.0\n",
      "Epoch: 039, Loss: 1.9853, Test: 1.7659\n",
      "  PredNeg: 89, PredPos: 5114, OrgNeg: 4801, OrgPos: 402\n",
      "    Neg:    Precision: 0.9438202247191011, Recall: 0.01749635492605707\n",
      "    Pos:    Precision: 0.07763003519749706, Recall: 0.9875621890547264\n",
      "Epoch: 040, Loss: 1.5091, Test: 1.7669\n",
      "  PredNeg: 140, PredPos: 5496, OrgNeg: 5416, OrgPos: 220\n",
      "    Neg:    Precision: 1.0, Recall: 0.0258493353028065\n",
      "    Pos:    Precision: 0.04002911208151383, Recall: 1.0\n",
      "Epoch: 041, Loss: 1.6362, Test: 1.7656\n",
      "  PredNeg: 108, PredPos: 5800, OrgNeg: 5628, OrgPos: 280\n",
      "    Neg:    Precision: 0.9537037037037037, Recall: 0.01830135039090263\n",
      "    Pos:    Precision: 0.04741379310344827, Recall: 0.9821428571428571\n",
      "Epoch: 042, Loss: 1.8932, Test: 1.7656\n",
      "  PredNeg: 152, PredPos: 5503, OrgNeg: 5276, OrgPos: 379\n",
      "    Neg:    Precision: 1.0, Recall: 0.02880970432145565\n",
      "    Pos:    Precision: 0.06887152462293294, Recall: 1.0\n",
      "Epoch: 043, Loss: 2.2942, Test: 1.7655\n",
      "  PredNeg: 129, PredPos: 5720, OrgNeg: 5274, OrgPos: 575\n",
      "    Neg:    Precision: 1.0, Recall: 0.024459613196814563\n",
      "    Pos:    Precision: 0.10052447552447552, Recall: 1.0\n",
      "Epoch: 044, Loss: 1.7353, Test: 1.7668\n",
      "  PredNeg: 198, PredPos: 5555, OrgNeg: 5418, OrgPos: 335\n",
      "    Neg:    Precision: 1.0, Recall: 0.036544850498338874\n",
      "    Pos:    Precision: 0.06030603060306031, Recall: 1.0\n",
      "Epoch: 045, Loss: 2.2408, Test: 1.7689\n",
      "  PredNeg: 148, PredPos: 5851, OrgNeg: 5414, OrgPos: 585\n",
      "    Neg:    Precision: 1.0, Recall: 0.027336534909493906\n",
      "    Pos:    Precision: 0.09998290890446078, Recall: 1.0\n",
      "Epoch: 046, Loss: 2.2775, Test: 1.7665\n",
      "  PredNeg: 202, PredPos: 5246, OrgNeg: 4891, OrgPos: 557\n",
      "    Neg:    Precision: 0.9752475247524752, Recall: 0.0402780617460642\n",
      "    Pos:    Precision: 0.10522302706824246, Recall: 0.9910233393177738\n",
      "Epoch: 047, Loss: 1.9649, Test: 1.7672\n",
      "  PredNeg: 173, PredPos: 5671, OrgNeg: 5418, OrgPos: 426\n",
      "    Neg:    Precision: 1.0, Recall: 0.031930601698043556\n",
      "    Pos:    Precision: 0.07511902662669723, Recall: 1.0\n",
      "Epoch: 048, Loss: 2.0596, Test: 1.7656\n",
      "  PredNeg: 246, PredPos: 8230, OrgNeg: 7795, OrgPos: 681\n",
      "    Neg:    Precision: 0.983739837398374, Recall: 0.03104554201411161\n",
      "    Pos:    Precision: 0.08226002430133657, Recall: 0.9941262848751835\n",
      "Epoch: 049, Loss: 2.1957, Test: 1.7657\n",
      "  PredNeg: 169, PredPos: 7172, OrgNeg: 6638, OrgPos: 703\n",
      "    Neg:    Precision: 1.0, Recall: 0.025459475745706537\n",
      "    Pos:    Precision: 0.09802007808142778, Recall: 1.0\n"
     ]
    }
   ],
   "source": [
    "# result =recall_parametr + reszta\n",
    "\n",
    "\n",
    "# recall_parametr = high if recall == 1 else very_low\n",
    "\n",
    "best_val_perf = test_perf = 0\n",
    "epoch_list = []\n",
    "loss_list = []\n",
    "test_perf_list = []\n",
    "target_conf = []\n",
    "preds_conf = []\n",
    "for epoch in range(1, 50):\n",
    "    train_loss, out, original = train()\n",
    "\n",
    "    org_trues = original.count_nonzero()\n",
    "    org_negs = len(original) - org_trues\n",
    "\n",
    "\n",
    "    pred_trues = out.round().count_nonzero()\n",
    "    pred_negs = len(out) - pred_trues\n",
    "\n",
    "    assert len(out) == len(original)\n",
    "\n",
    "    test_perf, target, preds = test()\n",
    "    target_conf.append(target)\n",
    "    preds_conf.append(preds)\n",
    "    # if val_perf > best_val_perf:\n",
    "    #     best_val_perf = val_perf\n",
    "    #     test_perf = tmp_test_perf\n",
    "    # log = 'Epoch: {:03d}, Loss: {:.4f}, Val: {:.4f}, Test: {:.4f}'\n",
    "    log = 'Epoch: {:03d}, Loss: {:.4f}, Test: {:.4f}\\n  PredNeg: {:d}, PredPos: {:d}, OrgNeg: {:d}, OrgPos: {:d}'\n",
    "\n",
    "    epoch_list.append(epoch)\n",
    "    loss_list.append(train_loss.item())\n",
    "    test_perf_list.append(test_perf)\n",
    "\n",
    "    if epoch % 1 == 0:\n",
    "        rounded_pred = out.round().detach().numpy()\n",
    "        print(log.format(epoch, train_loss, test_perf, pred_negs, pred_trues, org_negs, org_trues))\n",
    "        # print(confusion_matrix(out.round().detach().numpy(),original))\n",
    "        precision, recall, _, _ = precision_recall_fscore_support(\n",
    "            y_true=original, y_pred=rounded_pred, average=None)\n",
    "        print(f\"    Neg:    Precision: {precision[0]}, Recall: {recall[0]}\")\n",
    "        print(f\"    Pos:    Precision: {precision[1]}, Recall: {recall[1]}\")"
   ]
  },
  {
   "cell_type": "code",
   "execution_count": 329,
   "metadata": {},
   "outputs": [
    {
     "data": {
      "text/plain": [
       "<matplotlib.legend.Legend at 0x2ac88e790>"
      ]
     },
     "execution_count": 329,
     "metadata": {},
     "output_type": "execute_result"
    },
    {
     "data": {
      "image/png": "[encoded data removed]",
      "text/plain": [
       "<Figure size 1000x400 with 1 Axes>"
      ]
     },
     "metadata": {},
     "output_type": "display_data"
    }
   ],
   "source": [
    "fig, ax = plt.subplots(figsize=(10, 4), layout='constrained')\n",
    "ax.plot(epoch_list, loss_list, label='train losss')  \n",
    "ax.plot(epoch_list, test_perf_list, label='test loss') \n",
    "ax.set_xlabel('epochs')  \n",
    "ax.set_title(\"Results\") \n",
    "ax.legend()https://imgur.com/a/vduNJdW"
   ]
  },
  {
   "cell_type": "code",
   "execution_count": 83,
   "metadata": {},
   "outputs": [
    {
     "ename": "ValueError",
     "evalue": "Found indices in 'edge_index' that are larger than 1 (got 5). Please ensure that all indices in 'edge_index' point to valid indices in the interval [0, 2) in your node feature matrix and try again.",
     "output_type": "error",
     "traceback": [
      "\u001b[0;31m---------------------------------------------------------------------------\u001b[0m",
      "\u001b[0;31mIndexError\u001b[0m                                Traceback (most recent call last)",
      "File \u001b[0;32m~/Desktop/CodeProjects/GraphNeuralNetworks-ICAPS/.venv/lib/python3.9/site-packages/torch_geometric/nn/conv/message_passing.py:239\u001b[0m, in \u001b[0;36mMessagePassing.__lift__\u001b[0;34m(self, src, edge_index, dim)\u001b[0m\n\u001b[1;32m    238\u001b[0m     index \u001b[39m=\u001b[39m edge_index[dim]\n\u001b[0;32m--> 239\u001b[0m     \u001b[39mreturn\u001b[39;00m src\u001b[39m.\u001b[39;49mindex_select(\u001b[39mself\u001b[39;49m\u001b[39m.\u001b[39;49mnode_dim, index)\n\u001b[1;32m    240\u001b[0m \u001b[39mexcept\u001b[39;00m (\u001b[39mIndexError\u001b[39;00m, \u001b[39mRuntimeError\u001b[39;00m) \u001b[39mas\u001b[39;00m e:\n",
      "\u001b[0;31mIndexError\u001b[0m: index out of range in self",
      "\nDuring handling of the above exception, another exception occurred:\n",
      "\u001b[0;31mValueError\u001b[0m                                Traceback (most recent call last)",
      "Cell \u001b[0;32mIn[83], line 7\u001b[0m\n\u001b[1;32m      1\u001b[0m \u001b[39mfrom\u001b[39;00m \u001b[39mtorchmetrics\u001b[39;00m\u001b[39m.\u001b[39;00m\u001b[39mclassification\u001b[39;00m \u001b[39mimport\u001b[39;00m BinaryConfusionMatrix\n\u001b[1;32m      3\u001b[0m \u001b[39m# target, preds = test()\u001b[39;00m\n\u001b[1;32m      4\u001b[0m \u001b[39m# target_conf.append(target)\u001b[39;00m\n\u001b[1;32m      5\u001b[0m \u001b[39m# preds_conf.append(preds)\u001b[39;00m\n\u001b[0;32m----> 7\u001b[0m loss, targets, preds \u001b[39m=\u001b[39m test()\n\u001b[1;32m     10\u001b[0m \u001b[39m# target, pred = evaluate_and_return_confusion()\u001b[39;00m\n\u001b[1;32m     13\u001b[0m target_final \u001b[39m=\u001b[39m torch\u001b[39m.\u001b[39mtensor(targets)\n",
      "File \u001b[0;32m~/Desktop/CodeProjects/GraphNeuralNetworks-ICAPS/.venv/lib/python3.9/site-packages/torch/autograd/grad_mode.py:27\u001b[0m, in \u001b[0;36m_DecoratorContextManager.__call__.<locals>.decorate_context\u001b[0;34m(*args, **kwargs)\u001b[0m\n\u001b[1;32m     24\u001b[0m \u001b[39m@functools\u001b[39m\u001b[39m.\u001b[39mwraps(func)\n\u001b[1;32m     25\u001b[0m \u001b[39mdef\u001b[39;00m \u001b[39mdecorate_context\u001b[39m(\u001b[39m*\u001b[39margs, \u001b[39m*\u001b[39m\u001b[39m*\u001b[39mkwargs):\n\u001b[1;32m     26\u001b[0m     \u001b[39mwith\u001b[39;00m \u001b[39mself\u001b[39m\u001b[39m.\u001b[39mclone():\n\u001b[0;32m---> 27\u001b[0m         \u001b[39mreturn\u001b[39;00m func(\u001b[39m*\u001b[39;49margs, \u001b[39m*\u001b[39;49m\u001b[39m*\u001b[39;49mkwargs)\n",
      "Cell \u001b[0;32mIn[80], line 48\u001b[0m, in \u001b[0;36mtest\u001b[0;34m()\u001b[0m\n\u001b[1;32m     44\u001b[0m \u001b[39massert\u001b[39;00m i \u001b[39m==\u001b[39m \u001b[39m0\u001b[39m\n\u001b[1;32m     46\u001b[0m \u001b[39m# test_flattened = torch.reshape(test_weights, (total_size, 1))\u001b[39;00m\n\u001b[0;32m---> 48\u001b[0m out \u001b[39m=\u001b[39m model(batch\u001b[39m.\u001b[39;49mx_dict, batch\u001b[39m.\u001b[39;49medge_index_dict)\n\u001b[1;32m     49\u001b[0m loss \u001b[39m=\u001b[39m F\u001b[39m.\u001b[39mbinary_cross_entropy(out[\u001b[39m'\u001b[39m\u001b[39moperator\u001b[39m\u001b[39m'\u001b[39m],\n\u001b[1;32m     50\u001b[0m                         batch[\u001b[39m'\u001b[39m\u001b[39moperator\u001b[39m\u001b[39m'\u001b[39m]\u001b[39m.\u001b[39my, weight\u001b[39m=\u001b[39mtest_weights)\n\u001b[1;32m     51\u001b[0m target \u001b[39m=\u001b[39m batch[\u001b[39m'\u001b[39m\u001b[39moperator\u001b[39m\u001b[39m'\u001b[39m]\u001b[39m.\u001b[39my\n",
      "File \u001b[0;32m~/Desktop/CodeProjects/GraphNeuralNetworks-ICAPS/.venv/lib/python3.9/site-packages/torch/fx/graph_module.py:658\u001b[0m, in \u001b[0;36mGraphModule.recompile.<locals>.call_wrapped\u001b[0;34m(self, *args, **kwargs)\u001b[0m\n\u001b[1;32m    657\u001b[0m \u001b[39mdef\u001b[39;00m \u001b[39mcall_wrapped\u001b[39m(\u001b[39mself\u001b[39m, \u001b[39m*\u001b[39margs, \u001b[39m*\u001b[39m\u001b[39m*\u001b[39mkwargs):\n\u001b[0;32m--> 658\u001b[0m     \u001b[39mreturn\u001b[39;00m \u001b[39mself\u001b[39;49m\u001b[39m.\u001b[39;49m_wrapped_call(\u001b[39mself\u001b[39;49m, \u001b[39m*\u001b[39;49margs, \u001b[39m*\u001b[39;49m\u001b[39m*\u001b[39;49mkwargs)\n",
      "File \u001b[0;32m~/Desktop/CodeProjects/GraphNeuralNetworks-ICAPS/.venv/lib/python3.9/site-packages/torch/fx/graph_module.py:277\u001b[0m, in \u001b[0;36m_WrappedCall.__call__\u001b[0;34m(self, obj, *args, **kwargs)\u001b[0m\n\u001b[1;32m    275\u001b[0m     \u001b[39mraise\u001b[39;00m e\u001b[39m.\u001b[39mwith_traceback(\u001b[39mNone\u001b[39;00m)\n\u001b[1;32m    276\u001b[0m \u001b[39melse\u001b[39;00m:\n\u001b[0;32m--> 277\u001b[0m     \u001b[39mraise\u001b[39;00m e\n",
      "File \u001b[0;32m~/Desktop/CodeProjects/GraphNeuralNetworks-ICAPS/.venv/lib/python3.9/site-packages/torch/fx/graph_module.py:267\u001b[0m, in \u001b[0;36m_WrappedCall.__call__\u001b[0;34m(self, obj, *args, **kwargs)\u001b[0m\n\u001b[1;32m    265\u001b[0m         \u001b[39mreturn\u001b[39;00m \u001b[39mself\u001b[39m\u001b[39m.\u001b[39mcls_call(obj, \u001b[39m*\u001b[39margs, \u001b[39m*\u001b[39m\u001b[39m*\u001b[39mkwargs)\n\u001b[1;32m    266\u001b[0m     \u001b[39melse\u001b[39;00m:\n\u001b[0;32m--> 267\u001b[0m         \u001b[39mreturn\u001b[39;00m \u001b[39msuper\u001b[39;49m(\u001b[39mself\u001b[39;49m\u001b[39m.\u001b[39;49mcls, obj)\u001b[39m.\u001b[39;49m\u001b[39m__call__\u001b[39;49m(\u001b[39m*\u001b[39;49margs, \u001b[39m*\u001b[39;49m\u001b[39m*\u001b[39;49mkwargs)  \u001b[39m# type: ignore[misc]\u001b[39;00m\n\u001b[1;32m    268\u001b[0m \u001b[39mexcept\u001b[39;00m \u001b[39mException\u001b[39;00m \u001b[39mas\u001b[39;00m e:\n\u001b[1;32m    269\u001b[0m     \u001b[39massert\u001b[39;00m e\u001b[39m.\u001b[39m__traceback__\n",
      "File \u001b[0;32m~/Desktop/CodeProjects/GraphNeuralNetworks-ICAPS/.venv/lib/python3.9/site-packages/torch/nn/modules/module.py:1194\u001b[0m, in \u001b[0;36mModule._call_impl\u001b[0;34m(self, *input, **kwargs)\u001b[0m\n\u001b[1;32m   1190\u001b[0m \u001b[39m# If we don't have any hooks, we want to skip the rest of the logic in\u001b[39;00m\n\u001b[1;32m   1191\u001b[0m \u001b[39m# this function, and just call forward.\u001b[39;00m\n\u001b[1;32m   1192\u001b[0m \u001b[39mif\u001b[39;00m \u001b[39mnot\u001b[39;00m (\u001b[39mself\u001b[39m\u001b[39m.\u001b[39m_backward_hooks \u001b[39mor\u001b[39;00m \u001b[39mself\u001b[39m\u001b[39m.\u001b[39m_forward_hooks \u001b[39mor\u001b[39;00m \u001b[39mself\u001b[39m\u001b[39m.\u001b[39m_forward_pre_hooks \u001b[39mor\u001b[39;00m _global_backward_hooks\n\u001b[1;32m   1193\u001b[0m         \u001b[39mor\u001b[39;00m _global_forward_hooks \u001b[39mor\u001b[39;00m _global_forward_pre_hooks):\n\u001b[0;32m-> 1194\u001b[0m     \u001b[39mreturn\u001b[39;00m forward_call(\u001b[39m*\u001b[39;49m\u001b[39minput\u001b[39;49m, \u001b[39m*\u001b[39;49m\u001b[39m*\u001b[39;49mkwargs)\n\u001b[1;32m   1195\u001b[0m \u001b[39m# Do not call functions when jit is used\u001b[39;00m\n\u001b[1;32m   1196\u001b[0m full_backward_hooks, non_full_backward_hooks \u001b[39m=\u001b[39m [], []\n",
      "File \u001b[0;32m<eval_with_key>.7:16\u001b[0m, in \u001b[0;36mforward\u001b[0;34m(self, x, edge_index)\u001b[0m\n\u001b[1;32m     14\u001b[0m edge_index__operator__rev_precondition__value \u001b[39m=\u001b[39m edge_index_dict\u001b[39m.\u001b[39mget((\u001b[39m'\u001b[39m\u001b[39moperator\u001b[39m\u001b[39m'\u001b[39m, \u001b[39m'\u001b[39m\u001b[39mrev_precondition\u001b[39m\u001b[39m'\u001b[39m, \u001b[39m'\u001b[39m\u001b[39mvalue\u001b[39m\u001b[39m'\u001b[39m), \u001b[39mNone\u001b[39;00m)\n\u001b[1;32m     15\u001b[0m edge_index__value__rev_effect__operator \u001b[39m=\u001b[39m edge_index_dict\u001b[39m.\u001b[39mget((\u001b[39m'\u001b[39m\u001b[39mvalue\u001b[39m\u001b[39m'\u001b[39m, \u001b[39m'\u001b[39m\u001b[39mrev_effect\u001b[39m\u001b[39m'\u001b[39m, \u001b[39m'\u001b[39m\u001b[39moperator\u001b[39m\u001b[39m'\u001b[39m), \u001b[39mNone\u001b[39;00m);  edge_index_dict \u001b[39m=\u001b[39m \u001b[39mNone\u001b[39;00m\n\u001b[0;32m---> 16\u001b[0m conv1__value1 \u001b[39m=\u001b[39m \u001b[39mself\u001b[39;49m\u001b[39m.\u001b[39;49mconv1\u001b[39m.\u001b[39;49mvariable__has_value__value((x__variable, x__value), edge_index__variable__has_value__value)\n\u001b[1;32m     17\u001b[0m conv1__operator1 \u001b[39m=\u001b[39m \u001b[39mself\u001b[39m\u001b[39m.\u001b[39mconv1\u001b[39m.\u001b[39mvalue__precondition__operator((x__value, x__operator), edge_index__value__precondition__operator)\n\u001b[1;32m     18\u001b[0m conv1__value2 \u001b[39m=\u001b[39m \u001b[39mself\u001b[39m\u001b[39m.\u001b[39mconv1\u001b[39m.\u001b[39moperator__effect__value((x__operator, x__value), edge_index__operator__effect__value)\n",
      "File \u001b[0;32m~/Desktop/CodeProjects/GraphNeuralNetworks-ICAPS/.venv/lib/python3.9/site-packages/torch/nn/modules/module.py:1194\u001b[0m, in \u001b[0;36mModule._call_impl\u001b[0;34m(self, *input, **kwargs)\u001b[0m\n\u001b[1;32m   1190\u001b[0m \u001b[39m# If we don't have any hooks, we want to skip the rest of the logic in\u001b[39;00m\n\u001b[1;32m   1191\u001b[0m \u001b[39m# this function, and just call forward.\u001b[39;00m\n\u001b[1;32m   1192\u001b[0m \u001b[39mif\u001b[39;00m \u001b[39mnot\u001b[39;00m (\u001b[39mself\u001b[39m\u001b[39m.\u001b[39m_backward_hooks \u001b[39mor\u001b[39;00m \u001b[39mself\u001b[39m\u001b[39m.\u001b[39m_forward_hooks \u001b[39mor\u001b[39;00m \u001b[39mself\u001b[39m\u001b[39m.\u001b[39m_forward_pre_hooks \u001b[39mor\u001b[39;00m _global_backward_hooks\n\u001b[1;32m   1193\u001b[0m         \u001b[39mor\u001b[39;00m _global_forward_hooks \u001b[39mor\u001b[39;00m _global_forward_pre_hooks):\n\u001b[0;32m-> 1194\u001b[0m     \u001b[39mreturn\u001b[39;00m forward_call(\u001b[39m*\u001b[39;49m\u001b[39minput\u001b[39;49m, \u001b[39m*\u001b[39;49m\u001b[39m*\u001b[39;49mkwargs)\n\u001b[1;32m   1195\u001b[0m \u001b[39m# Do not call functions when jit is used\u001b[39;00m\n\u001b[1;32m   1196\u001b[0m full_backward_hooks, non_full_backward_hooks \u001b[39m=\u001b[39m [], []\n",
      "File \u001b[0;32m~/Desktop/CodeProjects/GraphNeuralNetworks-ICAPS/.venv/lib/python3.9/site-packages/torch_geometric/nn/conv/gat_conv.py:238\u001b[0m, in \u001b[0;36mGATConv.forward\u001b[0;34m(self, x, edge_index, edge_attr, size, return_attention_weights)\u001b[0m\n\u001b[1;32m    232\u001b[0m             \u001b[39mraise\u001b[39;00m \u001b[39mNotImplementedError\u001b[39;00m(\n\u001b[1;32m    233\u001b[0m                 \u001b[39m\"\u001b[39m\u001b[39mThe usage of \u001b[39m\u001b[39m'\u001b[39m\u001b[39medge_attr\u001b[39m\u001b[39m'\u001b[39m\u001b[39m and \u001b[39m\u001b[39m'\u001b[39m\u001b[39madd_self_loops\u001b[39m\u001b[39m'\u001b[39m\u001b[39m \u001b[39m\u001b[39m\"\u001b[39m\n\u001b[1;32m    234\u001b[0m                 \u001b[39m\"\u001b[39m\u001b[39msimultaneously is currently not yet supported for \u001b[39m\u001b[39m\"\u001b[39m\n\u001b[1;32m    235\u001b[0m                 \u001b[39m\"\u001b[39m\u001b[39m'\u001b[39m\u001b[39medge_index\u001b[39m\u001b[39m'\u001b[39m\u001b[39m in a \u001b[39m\u001b[39m'\u001b[39m\u001b[39mSparseTensor\u001b[39m\u001b[39m'\u001b[39m\u001b[39m form\u001b[39m\u001b[39m\"\u001b[39m)\n\u001b[1;32m    237\u001b[0m \u001b[39m# edge_updater_type: (alpha: OptPairTensor, edge_attr: OptTensor)\u001b[39;00m\n\u001b[0;32m--> 238\u001b[0m alpha \u001b[39m=\u001b[39m \u001b[39mself\u001b[39;49m\u001b[39m.\u001b[39;49medge_updater(edge_index, alpha\u001b[39m=\u001b[39;49malpha, edge_attr\u001b[39m=\u001b[39;49medge_attr)\n\u001b[1;32m    240\u001b[0m \u001b[39m# propagate_type: (x: OptPairTensor, alpha: Tensor)\u001b[39;00m\n\u001b[1;32m    241\u001b[0m out \u001b[39m=\u001b[39m \u001b[39mself\u001b[39m\u001b[39m.\u001b[39mpropagate(edge_index, x\u001b[39m=\u001b[39mx, alpha\u001b[39m=\u001b[39malpha, size\u001b[39m=\u001b[39msize)\n",
      "File \u001b[0;32m~/Desktop/CodeProjects/GraphNeuralNetworks-ICAPS/.venv/lib/python3.9/site-packages/torch_geometric/nn/conv/message_passing.py:497\u001b[0m, in \u001b[0;36mMessagePassing.edge_updater\u001b[0;34m(self, edge_index, **kwargs)\u001b[0m\n\u001b[1;32m    493\u001b[0m         edge_index, kwargs \u001b[39m=\u001b[39m res\n\u001b[1;32m    495\u001b[0m size \u001b[39m=\u001b[39m \u001b[39mself\u001b[39m\u001b[39m.\u001b[39m__check_input__(edge_index, size\u001b[39m=\u001b[39m\u001b[39mNone\u001b[39;00m)\n\u001b[0;32m--> 497\u001b[0m coll_dict \u001b[39m=\u001b[39m \u001b[39mself\u001b[39;49m\u001b[39m.\u001b[39;49m__collect__(\u001b[39mself\u001b[39;49m\u001b[39m.\u001b[39;49m__edge_user_args__, edge_index, size,\n\u001b[1;32m    498\u001b[0m                              kwargs)\n\u001b[1;32m    500\u001b[0m edge_kwargs \u001b[39m=\u001b[39m \u001b[39mself\u001b[39m\u001b[39m.\u001b[39minspector\u001b[39m.\u001b[39mdistribute(\u001b[39m'\u001b[39m\u001b[39medge_update\u001b[39m\u001b[39m'\u001b[39m, coll_dict)\n\u001b[1;32m    501\u001b[0m out \u001b[39m=\u001b[39m \u001b[39mself\u001b[39m\u001b[39m.\u001b[39medge_update(\u001b[39m*\u001b[39m\u001b[39m*\u001b[39medge_kwargs)\n",
      "File \u001b[0;32m~/Desktop/CodeProjects/GraphNeuralNetworks-ICAPS/.venv/lib/python3.9/site-packages/torch_geometric/nn/conv/message_passing.py:301\u001b[0m, in \u001b[0;36mMessagePassing.__collect__\u001b[0;34m(self, args, edge_index, size, kwargs)\u001b[0m\n\u001b[1;32m    299\u001b[0m         \u001b[39mif\u001b[39;00m \u001b[39misinstance\u001b[39m(data, Tensor):\n\u001b[1;32m    300\u001b[0m             \u001b[39mself\u001b[39m\u001b[39m.\u001b[39m__set_size__(size, dim, data)\n\u001b[0;32m--> 301\u001b[0m             data \u001b[39m=\u001b[39m \u001b[39mself\u001b[39;49m\u001b[39m.\u001b[39;49m__lift__(data, edge_index, dim)\n\u001b[1;32m    303\u001b[0m         out[arg] \u001b[39m=\u001b[39m data\n\u001b[1;32m    305\u001b[0m \u001b[39mif\u001b[39;00m is_torch_sparse_tensor(edge_index):\n",
      "File \u001b[0;32m~/Desktop/CodeProjects/GraphNeuralNetworks-ICAPS/.venv/lib/python3.9/site-packages/torch_geometric/nn/conv/message_passing.py:258\u001b[0m, in \u001b[0;36mMessagePassing.__lift__\u001b[0;34m(self, src, edge_index, dim)\u001b[0m\n\u001b[1;32m    249\u001b[0m             \u001b[39mraise\u001b[39;00m \u001b[39mValueError\u001b[39;00m(\n\u001b[1;32m    250\u001b[0m                 \u001b[39mf\u001b[39m\u001b[39m\"\u001b[39m\u001b[39mFound negative indices in \u001b[39m\u001b[39m'\u001b[39m\u001b[39medge_index\u001b[39m\u001b[39m'\u001b[39m\u001b[39m (got \u001b[39m\u001b[39m\"\u001b[39m\n\u001b[1;32m    251\u001b[0m                 \u001b[39mf\u001b[39m\u001b[39m\"\u001b[39m\u001b[39m{\u001b[39;00mindex\u001b[39m.\u001b[39mmin()\u001b[39m.\u001b[39mitem()\u001b[39m}\u001b[39;00m\u001b[39m). Please ensure that all \u001b[39m\u001b[39m\"\u001b[39m\n\u001b[1;32m    252\u001b[0m                 \u001b[39mf\u001b[39m\u001b[39m\"\u001b[39m\u001b[39mindices in \u001b[39m\u001b[39m'\u001b[39m\u001b[39medge_index\u001b[39m\u001b[39m'\u001b[39m\u001b[39m point to valid indices \u001b[39m\u001b[39m\"\u001b[39m\n\u001b[1;32m    253\u001b[0m                 \u001b[39mf\u001b[39m\u001b[39m\"\u001b[39m\u001b[39min the interval [0, \u001b[39m\u001b[39m{\u001b[39;00msrc\u001b[39m.\u001b[39msize(\u001b[39mself\u001b[39m\u001b[39m.\u001b[39mnode_dim)\u001b[39m}\u001b[39;00m\u001b[39m) in \u001b[39m\u001b[39m\"\u001b[39m\n\u001b[1;32m    254\u001b[0m                 \u001b[39mf\u001b[39m\u001b[39m\"\u001b[39m\u001b[39myour node feature matrix and try again.\u001b[39m\u001b[39m\"\u001b[39m)\n\u001b[1;32m    256\u001b[0m         \u001b[39mif\u001b[39;00m (index\u001b[39m.\u001b[39mnumel() \u001b[39m>\u001b[39m \u001b[39m0\u001b[39m\n\u001b[1;32m    257\u001b[0m                 \u001b[39mand\u001b[39;00m index\u001b[39m.\u001b[39mmax() \u001b[39m>\u001b[39m\u001b[39m=\u001b[39m src\u001b[39m.\u001b[39msize(\u001b[39mself\u001b[39m\u001b[39m.\u001b[39mnode_dim)):\n\u001b[0;32m--> 258\u001b[0m             \u001b[39mraise\u001b[39;00m \u001b[39mValueError\u001b[39;00m(\n\u001b[1;32m    259\u001b[0m                 \u001b[39mf\u001b[39m\u001b[39m\"\u001b[39m\u001b[39mFound indices in \u001b[39m\u001b[39m'\u001b[39m\u001b[39medge_index\u001b[39m\u001b[39m'\u001b[39m\u001b[39m that are larger \u001b[39m\u001b[39m\"\u001b[39m\n\u001b[1;32m    260\u001b[0m                 \u001b[39mf\u001b[39m\u001b[39m\"\u001b[39m\u001b[39mthan \u001b[39m\u001b[39m{\u001b[39;00msrc\u001b[39m.\u001b[39msize(\u001b[39mself\u001b[39m\u001b[39m.\u001b[39mnode_dim) \u001b[39m-\u001b[39m \u001b[39m1\u001b[39m\u001b[39m}\u001b[39;00m\u001b[39m (got \u001b[39m\u001b[39m\"\u001b[39m\n\u001b[1;32m    261\u001b[0m                 \u001b[39mf\u001b[39m\u001b[39m\"\u001b[39m\u001b[39m{\u001b[39;00mindex\u001b[39m.\u001b[39mmax()\u001b[39m.\u001b[39mitem()\u001b[39m}\u001b[39;00m\u001b[39m). Please ensure that all \u001b[39m\u001b[39m\"\u001b[39m\n\u001b[1;32m    262\u001b[0m                 \u001b[39mf\u001b[39m\u001b[39m\"\u001b[39m\u001b[39mindices in \u001b[39m\u001b[39m'\u001b[39m\u001b[39medge_index\u001b[39m\u001b[39m'\u001b[39m\u001b[39m point to valid indices \u001b[39m\u001b[39m\"\u001b[39m\n\u001b[1;32m    263\u001b[0m                 \u001b[39mf\u001b[39m\u001b[39m\"\u001b[39m\u001b[39min the interval [0, \u001b[39m\u001b[39m{\u001b[39;00msrc\u001b[39m.\u001b[39msize(\u001b[39mself\u001b[39m\u001b[39m.\u001b[39mnode_dim)\u001b[39m}\u001b[39;00m\u001b[39m) in \u001b[39m\u001b[39m\"\u001b[39m\n\u001b[1;32m    264\u001b[0m                 \u001b[39mf\u001b[39m\u001b[39m\"\u001b[39m\u001b[39myour node feature matrix and try again.\u001b[39m\u001b[39m\"\u001b[39m)\n\u001b[1;32m    266\u001b[0m         \u001b[39mraise\u001b[39;00m e\n\u001b[1;32m    268\u001b[0m \u001b[39melif\u001b[39;00m \u001b[39misinstance\u001b[39m(edge_index, SparseTensor):\n",
      "\u001b[0;31mValueError\u001b[0m: Found indices in 'edge_index' that are larger than 1 (got 5). Please ensure that all indices in 'edge_index' point to valid indices in the interval [0, 2) in your node feature matrix and try again."
     ]
    }
   ],
   "source": [
    "from torchmetrics.classification import BinaryConfusionMatrix\n",
    "\n",
    "# target, preds = test()\n",
    "# target_conf.append(target)\n",
    "# preds_conf.append(preds)\n",
    "\n",
    "loss, targets, preds = test()\n",
    "\n",
    "\n",
    "# target, pred = evaluate_and_return_confusion()\n",
    "\n",
    "\n",
    "target_final = torch.tensor(targets)\n",
    "preds_final = torch.tensor(preds)\n",
    "metric = BinaryConfusionMatrix()\n",
    "# metric(preds_final, target_final)\n",
    "\n",
    "\n",
    "\n",
    "# confusion_matrix([1,1,1], [0.99,0,0])\n",
    "targets\n",
    "print(preds >= 0.5)\n",
    "\n",
    "preds[preds >= 0.5] = 1\n",
    "preds[preds < 0.5] = 0\n",
    "\n",
    "preds\n",
    "\n",
    "\n"
   ]
  },
  {
   "cell_type": "code",
   "execution_count": 50,
   "metadata": {},
   "outputs": [
    {
     "data": {
      "text/plain": [
       "110557"
      ]
     },
     "execution_count": 50,
     "metadata": {},
     "output_type": "execute_result"
    }
   ],
   "source": [
    "len(target_final)"
   ]
  },
  {
   "cell_type": "code",
   "execution_count": 49,
   "metadata": {},
   "outputs": [
    {
     "data": {
      "text/plain": [
       "tensor(110557)"
      ]
     },
     "execution_count": 49,
     "metadata": {},
     "output_type": "execute_result"
    }
   ],
   "source": [
    "preds_final.round().count_nonzero()"
   ]
  },
  {
   "cell_type": "code",
   "execution_count": 51,
   "metadata": {},
   "outputs": [
    {
     "data": {
      "text/plain": [
       "array([[103909,      0],\n",
       "       [     0,   6648]])"
      ]
     },
     "execution_count": 51,
     "metadata": {},
     "output_type": "execute_result"
    }
   ],
   "source": [
    "confusion_matrix(target_final, target_final)"
   ]
  },
  {
   "cell_type": "code",
   "execution_count": 12,
   "metadata": {},
   "outputs": [
    {
     "name": "stdout",
     "output_type": "stream",
     "text": [
      "test set size: 110557\n",
      "trues: 0.06013187766075134\n",
      "ones: 0.06013187766075134\n",
      "pred test set size: 110557\n",
      "pred trues: 0.9221007227897644\n"
     ]
    }
   ],
   "source": [
    "test_set_size = len(targets)\n",
    "print(f\"test set size: {test_set_size}\")\n",
    "trues = targets.sum()\n",
    "\n",
    "print(f\"trues: {trues/test_set_size}\")\n",
    "\n",
    "ones = (targets == 1).sum()\n",
    "print(f\"ones: {ones/test_set_size}\")\n",
    "\n",
    "\n",
    "pred_test_size = len(preds)\n",
    "print(f\"pred test set size: {pred_test_size}\")\n",
    "pred_trues = preds.sum()\n",
    "print(f\"pred trues: {pred_trues/pred_test_size}\")"
   ]
  },
  {
   "cell_type": "code",
   "execution_count": 13,
   "metadata": {},
   "outputs": [
    {
     "data": {
      "text/plain": [
       "<torch_geometric.loader.dataloader.DataLoader at 0x288976070>"
      ]
     },
     "execution_count": 13,
     "metadata": {},
     "output_type": "execute_result"
    }
   ],
   "source": [
    "test_loader"
   ]
  },
  {
   "cell_type": "code",
   "execution_count": 14,
   "metadata": {},
   "outputs": [],
   "source": [
    "# import torch.nn.functional as F\n",
    "\n",
    "# def train():\n",
    "#     for i in range(1, 100):\n",
    "#         if i % 10 == 0:\n",
    "#             print(f'Epoch: {i:03d}, Loss: {loss:.4f}')\n",
    "#         model.train()\n",
    "#         optimizer.zero_grad()\n",
    "#         out = model(our_data.x_dict, our_data.edge_index_dict)\n",
    "\n",
    "#         pred = out['operator']\n",
    "#         true_label = our_data['operator'].y\n",
    "\n",
    "#         print(pred[0])\n",
    "#         # print(true_label)\n",
    "#         loss = F.binary_cross_entropy_with_logits(pred, true_label)\n",
    "#         loss.backward()\n",
    "#         optimizer.step()\n",
    "#         # return float(loss)\n",
    "\n",
    "# train()"
   ]
  },
  {
   "cell_type": "code",
   "execution_count": 15,
   "metadata": {},
   "outputs": [],
   "source": [
    "# def train():\n",
    "#     model.train()\n",
    "\n",
    "#     total_examples = total_loss = 0\n",
    "#     for batch in train_loader:\n",
    "#         optimizer.zero_grad()\n",
    "#         batch = batch.to('cuda:0')\n",
    "#         batch_size = batch['paper'].batch_size\n",
    "#         out = model(batch.x_dict, batch.edge_index_dict)\n",
    "#         loss = F.cross_entropy(out['paper'][:batch_size],\n",
    "#                                batch['paper'].y[:batch_size])\n",
    "#         loss.backward()\n",
    "#         optimizer.step()\n",
    "\n",
    "#         total_examples += batch_size\n",
    "#         total_loss += float(loss) * batch_size\n",
    "\n",
    "#     return total_loss / total_examples"
   ]
  },
  {
   "cell_type": "code",
   "execution_count": 16,
   "metadata": {},
   "outputs": [],
   "source": [
    "# model.eval()\n",
    "\n",
    "# out = model(our_data.x_dict, our_data.edge_index_dict)\n",
    "# out[\"variable\"]"
   ]
  },
  {
   "cell_type": "code",
   "execution_count": 21,
   "metadata": {},
   "outputs": [
    {
     "ename": "NameError",
     "evalue": "name 'nunber_of_ones' is not defined",
     "output_type": "error",
     "traceback": [
      "\u001b[0;31m---------------------------------------------------------------------------\u001b[0m",
      "\u001b[0;31mNameError\u001b[0m                                 Traceback (most recent call last)",
      "Cell \u001b[0;32mIn[21], line 7\u001b[0m\n\u001b[1;32m      3\u001b[0m a \u001b[39m=\u001b[39m torch\u001b[39m.\u001b[39mtensor([\u001b[39m1\u001b[39m,\u001b[39m2\u001b[39m,\u001b[39m3\u001b[39m])\n\u001b[1;32m      5\u001b[0m a[b \u001b[39m!=\u001b[39m \u001b[39mTrue\u001b[39;00m] \u001b[39m=\u001b[39m \u001b[39m7\u001b[39m\n\u001b[0;32m----> 7\u001b[0m train_weights[batch[\u001b[39m'\u001b[39m\u001b[39moperator\u001b[39m\u001b[39m'\u001b[39m]\u001b[39m.\u001b[39my \u001b[39m==\u001b[39m \u001b[39m0\u001b[39m] \u001b[39m=\u001b[39m nunber_of_ones\u001b[39m/\u001b[39mnunber_of_zeros\n\u001b[1;32m      8\u001b[0m a\n",
      "\u001b[0;31mNameError\u001b[0m: name 'nunber_of_ones' is not defined"
     ]
    }
   ],
   "source": [
    "b = [True, False, True]\n",
    "\n",
    "a = torch.tensor([1,2,3])\n",
    "\n",
    "a[b != True] = 7\n",
    "\n",
    "train_weights[batch['operator'].y == 0] = nunber_of_ones/nunber_of_zeros\n",
    "a"
   ]
  },
  {
   "cell_type": "code",
   "execution_count": 70,
   "metadata": {},
   "outputs": [
    {
     "name": "stdout",
     "output_type": "stream",
     "text": [
      "tensor([[1.],\n",
      "        [1.],\n",
      "        [1.],\n",
      "        [0.],\n",
      "        [0.],\n",
      "        [0.],\n",
      "        [1.],\n",
      "        [1.],\n",
      "        [1.],\n",
      "        [1.]])\n",
      "tensor([[3.],\n",
      "        [3.],\n",
      "        [3.],\n",
      "        [5.],\n",
      "        [5.],\n",
      "        [5.],\n",
      "        [3.],\n",
      "        [3.],\n",
      "        [3.],\n",
      "        [3.]])\n"
     ]
    }
   ],
   "source": [
    "batch = next(iter(train_loader))\n",
    "batch['operator'].y\n",
    "\n",
    "to_change = batch[\"operator\"].y[:10]\n",
    "\n",
    "\n",
    "weights  = torch.ones_like(to_change)\n",
    "\n",
    "weights[to_change == 1] = 3\n",
    "weights[to_change == 0] = 5\n",
    "\n",
    "print(to_change)\n",
    "print(weights)"
   ]
  },
  {
   "cell_type": "code",
   "execution_count": 19,
   "metadata": {},
   "outputs": [
    {
     "name": "stderr",
     "output_type": "stream",
     "text": [
      "/Users/piotrgzubicki/School/projectGNNs/GraphNeuralNetworks-ICAPS/.venv/lib/python3.9/site-packages/torch/_tensor.py:761: UserWarning: non-inplace resize is deprecated\n",
      "  warnings.warn(\"non-inplace resize is deprecated\")\n"
     ]
    },
    {
     "data": {
      "text/plain": [
       "tensor([1., 1., 1., 1., 1., 1., 1., 1., 1., 1., 1., 1., 1., 1., 1.])"
      ]
     },
     "execution_count": 19,
     "metadata": {},
     "output_type": "execute_result"
    }
   ],
   "source": [
    "batch[\"operator\"].y\n",
    "train_weights = torch.ones(15).resize(15,1)\n",
    "torch.flatten(train_weights)"
   ]
  },
  {
   "cell_type": "code",
   "execution_count": 20,
   "metadata": {},
   "outputs": [],
   "source": [
    "total_size = 15\n",
    "batch = next(iter(train_loader))\n",
    "batch = batch[0]\n",
    "test_weight = torch.ones(total_size).reshape(total_size,1)\n",
    "test_weight[batch['operator'].y[0:15] == 0] = 15/5\n",
    "torch.flatten(test_weight, -2)\n",
    "\n",
    "x = torch.Tensor([1,2,3])\n",
    "# batch"
   ]
  },
  {
   "cell_type": "code",
   "execution_count": 292,
   "metadata": {},
   "outputs": [
    {
     "ename": "TypeError",
     "evalue": "round() takes from 1 to 0 positional arguments but 1 were given",
     "output_type": "error",
     "traceback": [
      "\u001b[0;31m---------------------------------------------------------------------------\u001b[0m",
      "\u001b[0;31mTypeError\u001b[0m                                 Traceback (most recent call last)",
      "Cell \u001b[0;32mIn[292], line 3\u001b[0m\n\u001b[1;32m      1\u001b[0m x \u001b[39m=\u001b[39m torch\u001b[39m.\u001b[39mTensor([\u001b[39m0.1\u001b[39m,\u001b[39m0\u001b[39m,\u001b[39m2\u001b[39m,\u001b[39m0\u001b[39m,\u001b[39m3\u001b[39m])\n\u001b[0;32m----> 3\u001b[0m x\u001b[39m.\u001b[39;49mround(\u001b[39m0.2\u001b[39;49m)\n",
      "\u001b[0;31mTypeError\u001b[0m: round() takes from 1 to 0 positional arguments but 1 were given"
     ]
    }
   ],
   "source": [
    "x = torch.Tensor([0.1,0,2,0,3])\n",
    "\n",
    ")"
   ]
  }
 ],
 "metadata": {
  "kernelspec": {
   "display_name": ".venv",
   "language": "python",
   "name": "python3"
  },
  "language_info": {
   "codemirror_mode": {
    "name": "ipython",
    "version": 3
   },
   "file_extension": ".py",
   "mimetype": "text/x-python",
   "name": "python",
   "nbconvert_exporter": "python",
   "pygments_lexer": "ipython3",
   "version": "3.9.15"
  },
  "orig_nbformat": 4,
  "vscode": {
   "interpreter": {
    "hash": "5f3cd47e8294954fd18af9024571d3e60d92c8fd24f506352a1bb4b0f54cbdcb"
   }
  }
 },
 "nbformat": 4,
 "nbformat_minor": 2
}
