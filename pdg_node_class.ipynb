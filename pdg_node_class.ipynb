{
 "cells": [
  {
   "cell_type": "code",
   "execution_count": 1,
   "metadata": {},
   "outputs": [
    {
     "name": "stderr",
     "output_type": "stream",
     "text": [
      "/Users/bartoszlachowicz/Desktop/CodeProjects/GraphNeuralNetworks-ICAPS/.venv/lib/python3.9/site-packages/tqdm/auto.py:22: TqdmWarning: IProgress not found. Please update jupyter and ipywidgets. See https://ipywidgets.readthedocs.io/en/stable/user_install.html\n",
      "  from .autonotebook import tqdm as notebook_tqdm\n"
     ]
    },
    {
     "name": "stdout",
     "output_type": "stream",
     "text": [
      "1.13.1\n"
     ]
    }
   ],
   "source": [
    "# Install required packages.\n",
    "import os\n",
    "import torch\n",
    "os.environ['TORCH'] = torch.__version__\n",
    "print(torch.__version__)\n",
    "\n",
    "import pandas as pd\n",
    "import numpy as np\n",
    "\n",
    "# Helper function for visualization.\n",
    "%matplotlib inline\n",
    "import matplotlib.pyplot as plt\n",
    "from sklearn.manifold import TSNE\n",
    "\n",
    "import torch_geometric.transforms as T\n",
    "import torch.nn.functional as F\n",
    "from torch_geometric.loader import DataLoader\n",
    "from torch_geometric.datasets import OGB_MAG\n",
    "from torch_geometric.nn import SAGEConv, to_hetero, GATConv, Linear\n",
    "# impoort HeteroData\n",
    "from torch_geometric.data import HeteroData\n",
    "\n",
    "\n",
    "from sklearn.metrics import confusion_matrix\n",
    "from sklearn.metrics import precision_recall_fscore_support\n",
    "\n",
    "from torch.nn import BCEWithLogitsLoss\n",
    "\n",
    "import warnings\n",
    "warnings.filterwarnings('ignore') \n",
    "\n"
   ]
  },
  {
   "cell_type": "code",
   "execution_count": 2,
   "metadata": {},
   "outputs": [
    {
     "name": "stdout",
     "output_type": "stream",
     "text": [
      "Recall for treshold 0.1: (100.0, 0.0)\n",
      "Recall for treshold 0.2: (100.0, 100.0)\n",
      "Recall for treshold 0.3: (33.33333333333333, 100.0)\n"
     ]
    },
    {
     "data": {
      "image/png": "[encoded data removed]",
      "text/plain": [
       "<Figure size 640x480 with 1 Axes>"
      ]
     },
     "metadata": {},
     "output_type": "display_data"
    }
   ],
   "source": [
    "data = np.array([0.1,0.2,0.2,0.3])\n",
    "\n",
    "true_data = np.array([0,1,1,1])\n",
    "\n",
    "def treshhold_result(data, true_data, treshold):\n",
    "    changed_data = (data >= treshold).astype(int)\n",
    "    recall_positive = precision_recall_fscore_support(true_data, changed_data, average=None)[1][1] * 100\n",
    "    recall_negative = precision_recall_fscore_support(true_data, changed_data, average=None)[1][0] * 100\n",
    " \n",
    "    return recall_positive, recall_negative\n",
    "\n",
    "\n",
    "def plot_recalls(treshold, result, bar_width):\n",
    "    # bar_width = 0.005\n",
    "\n",
    "    recall_positive = result[0]\n",
    "    recall_negative = result[1]\n",
    "    plt.title(\"Visualization of recall for positive and negative class\")\n",
    "    plt.legend(['Positive', 'Negative'], loc='best')\n",
    "    plt.xlabel(\"Fixed treshold value\")\n",
    "    plt.ylabel(\"Recall %\")\n",
    "\n",
    "    plt.bar(treshold + bar_width/2, recall_positive, bar_width,  color='green', label='Positive')\n",
    "    plt.bar(treshold - bar_width/2, recall_negative, bar_width, color='red', label='Negative')\n",
    "\n",
    "\n",
    "\n",
    "def plot_all_recalls(data, bar_width):\n",
    "    # f = plt.figure(figsize=(10, 5))\n",
    "\n",
    "    # f.legend()\n",
    "    # f.yticks(np.arange(0, 105, 5))\n",
    "\n",
    "    for treshold, result in data.items():\n",
    "        plot_recalls(treshold, result, bar_width)\n",
    "    plt.grid(axis='y', alpha=0.4)\n",
    "    plt.show()\n",
    "\n",
    "result_01 = treshhold_result(data, true_data, 0.1)\n",
    "result_02 = treshhold_result(data, true_data, 0.2)\n",
    "result_03 = treshhold_result(data, true_data, 0.3)\n",
    "\n",
    "print(f\"Recall for treshold 0.1: {result_01}\")\n",
    "print(f\"Recall for treshold 0.2: {result_02}\")\n",
    "print(f\"Recall for treshold 0.3: {result_03}\")\n",
    "\n",
    "data = {\n",
    "    0.1: result_01,\n",
    "    0.2: result_02,\n",
    "    0.3: result_03\n",
    "}\n",
    "\n",
    "plot_all_recalls(data, 0.005)"
   ]
  },
  {
   "cell_type": "code",
   "execution_count": 3,
   "metadata": {},
   "outputs": [],
   "source": [
    "def node_df_to_torch(df: pd.DataFrame):\n",
    "    return torch.tensor(df.values, dtype=torch.float)\n",
    "\n",
    "def edge_df_to_torch(df: pd.DataFrame):\n",
    "    # assert edge_type in [\"VarVal\",\"ValOp\", \"OpVal\"]\n",
    "        return torch.tensor(df.index, dtype=torch.long).t().contiguous()\n",
    "\n",
    "def problem_dfs(problem_path):\n",
    "    \"\"\"\n",
    "    Returns the dataframes for the variables, values, operators, and their respective edges\n",
    "    \"\"\"\n",
    "    variables_df = pd.read_csv(os.path.join(problem_path, 'variables.csv'), index_col=0)\n",
    "    variables_df = variables_df.drop(columns=[\"is_goal\"])\n",
    "    \n",
    "    values_df = pd.read_csv(os.path.join(problem_path, 'values.csv'), index_col=0)\n",
    "\n",
    "    operators_df = pd.read_csv(os.path.join(problem_path, 'operators.csv'), index_col=0)\n",
    "\n",
    "    val_var_df = pd.read_csv(os.path.join(problem_path, 'ValVar_edges.csv'), index_col=[0,1])\n",
    "    val_op_df = pd.read_csv(os.path.join(problem_path, 'ValOp_edges.csv'), index_col=[0,1])\n",
    "    val_op_df = val_op_df.drop(columns=[\"label\"])\n",
    "    op_val_df = pd.read_csv(os.path.join(problem_path, 'OpVal_edges.csv'), index_col=[0,1])\n",
    "    op_val_df = op_val_df.drop(columns=[\"label\"])\n",
    "\n",
    "    return variables_df, values_df, operators_df, val_var_df, val_op_df, op_val_df\n",
    "\n",
    "def build_hetero(\n",
    "    variables_df,\n",
    "    values_df,\n",
    "    operators_df,\n",
    "    val_var_df,\n",
    "    val_op_df,\n",
    "    op_val_df,\n",
    "):\n",
    "    hetero_data = HeteroData()\n",
    "    hetero_data['variable'].x = node_df_to_torch(variables_df)\n",
    "    hetero_data['value'].x = node_df_to_torch(values_df)\n",
    "    hetero_data['operator'].x = x = torch.empty(len(operators_df), 0)\n",
    "    hetero_data['operator'].y = node_df_to_torch(operators_df)\n",
    "\n",
    "    hetero_data['variable', 'has_value', 'value'].edge_index = edge_df_to_torch(val_var_df)\n",
    "    hetero_data['value', 'precondition', 'operator'].edge_index = edge_df_to_torch(val_op_df)\n",
    "    hetero_data['operator', 'effect', 'value'].edge_index = edge_df_to_torch(op_val_df)\n",
    "\n",
    "    # VarVal = edge_df_to_torch(val_var_df)\n",
    "    # ValOp = edge_df_to_torch(val_op_df)\n",
    "    # OpVal = edge_df_to_torch(op_val_df)\n",
    "\n",
    "\n",
    "    # return hetero_data\n",
    "    return T.ToUndirected()(hetero_data)\n",
    "\n",
    "\n",
    "def build_data_set():\n",
    "    path = \"big_dataset/satellite\" \n",
    "    dataset = []\n",
    "    dir_list = os.listdir(path)\n",
    "    # print(dir_list)\n",
    "    # dir_list = ['p907_4_2_2_7_3']*3\n",
    "    # dir_list = os.listdir(path)\n",
    "    for problem in dir_list:\n",
    "        dfs = problem_dfs(os.path.join(path, problem))\n",
    "        var_df, val_df, op_df, val_var_df, val_op_df, op_val_df = dfs\n",
    "        temp_date = build_hetero(*dfs)\n",
    "        dataset.append(temp_date)\n",
    "    # dfs = problem_dfs(problem_path=\"z_test_data\")\n",
    "    # var_df, val_df, op_df, val_var_df, val_op_df, op_val_df = dfs\n",
    "    # temp_date = build_hetero(*dfs)\n",
    "    # dataset.append(temp_date)\n",
    "    return dataset\n",
    "\n",
    "\n",
    "def split_and_out_data_laoder():\n",
    "    dataset = build_data_set()\n",
    "    dataset_size = len(dataset)\n",
    "    indices = list(range(dataset_size))\n",
    "    split_train = int(np.floor(0.7 * dataset_size))\n",
    "    split_test = int(np.floor(0.2 * dataset_size))\n",
    "    np.random.shuffle(indices)\n",
    "    train_indices, test_indicies, validation_indicies = indices[:split_train], indices[split_train:split_train+split_test], indices[split_train+split_test:]\n",
    "    \n",
    "    assert len(train_indices) + len(test_indicies) + len(validation_indicies) == dataset_size\n",
    "    train_set = []\n",
    "    test_set = []\n",
    "    val_set = []\n",
    "\n",
    "    for i in train_indices:\n",
    "        train_set.append(dataset[i])\n",
    "    for i in test_indicies:\n",
    "        test_set.append(dataset[i])\n",
    "    \n",
    "    for i in validation_indicies:\n",
    "        val_set.append(dataset[i])\n",
    "\n",
    "    train_loader = DataLoader(train_set, batch_size=16, shuffle=True)\n",
    "    # test_loader = train_loader\n",
    "    test_loader = DataLoader(test_set, batch_size=len(test_set), shuffle=True)\n",
    "    # test_loader = test_set\n",
    "    val_loader = DataLoader(val_set, batch_size=len(val_set), shuffle=True)\n",
    "    return train_loader, test_loader, val_loader\n",
    "\n",
    "def dataset_metrics(dataset):\n",
    "\n",
    "    total_positives = 0\n",
    "    total_negatives = 0\n",
    "    total_samples = 0\n",
    "    for d in dataset:\n",
    "        positives = d['operator'].y.count_nonzero()\n",
    "        \n",
    "        negatives = d['operator'].y.shape[0] - positives\n",
    "        total = d['operator'].y.shape[0]\n",
    "\n",
    "        total_positives += positives\n",
    "        total_negatives += negatives\n",
    "        total_samples += total\n",
    "        assert positives + negatives == total\n",
    "    \n",
    "    assert total_positives + total_negatives == total_samples\n",
    "\n",
    "    return total_positives, total_negatives, total_samples\n",
    "\n",
    "total_positives, total_negatives, total_samples = dataset_metrics(build_data_set())\n"
   ]
  },
  {
   "cell_type": "code",
   "execution_count": 6,
   "metadata": {},
   "outputs": [],
   "source": [
    "train_loader, test_loader, val_loader = split_and_out_data_laoder()\n",
    "\n",
    "def gat_model_net(hidden_size):\n",
    "    class GNN(torch.nn.Module):\n",
    "        def __init__(self, out_channels):\n",
    "            super().__init__()\n",
    "            self.conv1 = GATConv((-1, -1), hidden_size, add_self_loops=False)\n",
    "            self.conv2 = GATConv((-1, -1), hidden_size//2, add_self_loops=False)\n",
    "            self.conv3 = GATConv((-1, -1), hidden_size//4, add_self_loops=False)\n",
    "            self.output = GATConv((-1, -1), out_channels, add_self_loops=False)\n",
    "\n",
    "\n",
    "        def forward(self, x, edge_index):\n",
    "            x = self.conv1(x, edge_index)\n",
    "            x = x.relu()\n",
    "            x = self.conv2(x, edge_index)\n",
    "            x = x.relu()\n",
    "            x = self.conv3(x, edge_index)\n",
    "            x = x.relu()\n",
    "            x = self.output(x, edge_index)\n",
    "            x = x.sigmoid()\n",
    "            return x\n",
    "\n",
    "\n",
    "    model = GNN(out_channels=1)\n",
    "    model = to_hetero(model, next(iter(train_loader)).metadata(), aggr='sum')\n",
    "    optimizer = torch.optim.Adam(model.parameters())\n",
    "    return optimizer, model\n",
    "\n",
    "def sage_model_net(hidden_size=64):\n",
    "    class GNN(torch.nn.Module):\n",
    "        def __init__(self, out_channels):\n",
    "            super().__init__()\n",
    "            self.conv1 = SAGEConv((-1, -1), hidden_size)\n",
    "            self.conv2 = SAGEConv((-1, -1), hidden_size//2)\n",
    "            self.conv3 = SAGEConv((-1, -1), hidden_size//4)\n",
    "            self.output = SAGEConv((-1, -1), out_channels)\n",
    "\n",
    "        def forward(self, x, edge_index):\n",
    "            x = self.conv1(x, edge_index)\n",
    "            x = x.relu()\n",
    "            x = self.conv2(x, edge_index)\n",
    "            x = x.relu()\n",
    "            x = self.conv3(x, edge_index)\n",
    "            x = x.relu()\n",
    "            x = self.output(x, edge_index)\n",
    "            x = x.sigmoid()\n",
    "            return x\n",
    "\n",
    "\n",
    "    model = GNN(out_channels=1)\n",
    "    model = to_hetero(model, next(iter(train_loader)).metadata(), aggr='sum')\n",
    "    optimizer = torch.optim.Adam(model.parameters())\n",
    "    return optimizer, model"
   ]
  },
  {
   "cell_type": "code",
   "execution_count": 7,
   "metadata": {},
   "outputs": [],
   "source": [
    "optimizer, model = sage_model_net()\n",
    "\n",
    "pos_weight = 1/ (total_positives / total_samples)\n",
    "neg_weight = 1/ (total_negatives / total_samples)\n",
    "\n",
    "def test_val_results(batch):\n",
    "    \"\"\"returns loss, preds, original\"\"\"\n",
    "    test_val_weights = torch.ones_like(batch['operator'].y)\n",
    "    test_val_weights[batch['operator'].y == 0] = neg_weight\n",
    "    test_val_weights[batch['operator'].y == 1] = pos_weight\n",
    "\n",
    "    out = model(batch.x_dict, batch.edge_index_dict)\n",
    "    # BCEWithLogitsLoss = torch.nn.BCEWithLogitsLoss()\n",
    "    loss = F.binary_cross_entropy(out['operator'],\n",
    "                                batch['operator'].y, weight=test_val_weights)\n",
    "    original = batch['operator'].y\n",
    "    preds = out['operator']\n",
    "    return loss, preds, original\n",
    "\n",
    "def train():\n",
    "    model.train()\n",
    "\n",
    "    for batch in train_loader:\n",
    "\n",
    "        train_weights = torch.ones_like(batch['operator'].y)\n",
    "        train_weights[batch['operator'].y == 0] = neg_weight\n",
    "        train_weights[batch['operator'].y == 1] = pos_weight\n",
    "        optimizer.zero_grad()\n",
    "        out = model(batch.x_dict, batch.edge_index_dict)\n",
    "        # metric_loss = torch.nn.BCEWithLogitsLoss()\n",
    "        # loss = metric_loss(out['operator'], batch['operator'].y)\n",
    "        loss = F.binary_cross_entropy(out['operator'],\n",
    "                               batch['operator'].y,weight=train_weights)\n",
    "        loss.backward()\n",
    "        optimizer.step()\n",
    "    # loss, pred, original\n",
    "    return loss, out[\"operator\"], batch['operator'].y\n",
    "\n",
    "@torch.no_grad()\n",
    "def test():\n",
    "    model.eval()\n",
    "    test_batch = next(iter(test_loader))\n",
    "    val_batch = next(iter(val_loader))\n",
    "    return test_val_results(test_batch), test_val_results(val_batch)\n",
    "\n",
    "\n",
    "\n",
    "def evaluate_and_return_confusion():\n",
    "    model.eval()\n",
    "    targets = []\n",
    "    preds = []\n",
    "    for batch in test_loader:\n",
    "        out = model(batch.x_dict, batch.edge_index_dict)\n",
    "        target = batch['operator'].y\n",
    "        pred = out['operator']\n",
    "        targets.append(target)\n",
    "        preds.append(pred)\n",
    "    return targets, preds\n"
   ]
  },
  {
   "cell_type": "code",
   "execution_count": 10,
   "metadata": {},
   "outputs": [
    {
     "name": "stdout",
     "output_type": "stream",
     "text": [
      "Epoch: 1\n",
      "Train:, Loss: 0.8657\n",
      "    Neg:    Precision: 0.9742146497299764, Recall: 0.8756409379913858\n",
      "    Pos:    Precision: 0.27960396039603963, Recall: 0.6755980861244019\n",
      "Test:, Loss: 0.7870\n",
      "    Neg:    Precision: 0.9888612793175036, Recall: 0.8267413596657804\n",
      "    Pos:    Precision: 0.23803240354100552, Recall: 0.8532000239477938\n",
      "Val:, Loss: 0.7798\n",
      "    Neg:    Precision: 0.9892586898796095, Recall: 0.8267536541413603\n",
      "    Pos:    Precision: 0.2374412455934195, Recall: 0.8573322726067356\n",
      "Epoch: 2\n",
      "Train:, Loss: 0.7450\n",
      "    Neg:    Precision: 0.9903594257570995, Recall: 0.7940015122238091\n",
      "    Pos:    Precision: 0.26740364505527336, Recall: 0.9067882472137792\n",
      "Test:, Loss: 0.7047\n",
      "    Neg:    Precision: 0.9986570149538051, Recall: 0.796422331940752\n",
      "    Pos:    Precision: 0.23450866143981264, Recall: 0.9831168053643058\n",
      "Val:, Loss: 0.6999\n",
      "    Neg:    Precision: 0.9985189542346354, Recall: 0.7930821597810852\n",
      "    Pos:    Precision: 0.22982330838741732, Recall: 0.9813046937151949\n",
      "Epoch: 3\n",
      "Train:, Loss: 0.6740\n",
      "    Neg:    Precision: 0.9914205725638942, Recall: 0.8672091002448851\n",
      "    Pos:    Precision: 0.3977069150841992, Recall: 0.921161825726141\n",
      "Test:, Loss: 0.6402\n",
      "    Neg:    Precision: 0.988524878492405, Recall: 0.8751917964299278\n",
      "    Pos:    Precision: 0.29916826615483044, Recall: 0.8398491288990002\n",
      "Val:, Loss: 0.6291\n",
      "    Neg:    Precision: 0.9901835737838118, Recall: 0.8743576052859908\n",
      "    Pos:    Precision: 0.3015814126049251, Recall: 0.862238133121188\n",
      "Epoch: 4\n",
      "Train:, Loss: 0.6342\n",
      "    Neg:    Precision: 0.9935246762338117, Recall: 0.823111497752646\n",
      "    Pos:    Precision: 0.21669341894060995, Recall: 0.9012016021361816\n",
      "Test:, Loss: 0.5789\n",
      "    Neg:    Precision: 0.9944034664697351, Recall: 0.8489327763007976\n",
      "    Pos:    Precision: 0.2796943191901632, Recall: 0.9246841884691372\n",
      "Val:, Loss: 0.5749\n",
      "    Neg:    Precision: 0.9942632083031997, Recall: 0.8487535873990523\n",
      "    Pos:    Precision: 0.27726837824908307, Recall: 0.9221691858923362\n",
      "Epoch: 5\n",
      "Train:, Loss: 0.6617\n",
      "    Neg:    Precision: 0.9963885879378838, Recall: 0.7949863132113528\n",
      "    Pos:    Precision: 0.2655483870967742, Recall: 0.9625818521983162\n",
      "Test:, Loss: 0.5552\n",
      "    Neg:    Precision: 0.9970552540587575, Recall: 0.8268590960881124\n",
      "    Pos:    Precision: 0.26051128990397093, Recall: 0.9615039214512363\n",
      "Val:, Loss: 0.5536\n",
      "    Neg:    Precision: 0.9971609499743277, Recall: 0.8263281719281853\n",
      "    Pos:    Precision: 0.2585746340420985, Recall: 0.9626093874303898\n"
     ]
    }
   ],
   "source": [
    "def get_pred_trues_and_negs(predicted, original):\n",
    "    org_trues = original.count_nonzero()\n",
    "    org_negs = len(original) - org_trues\n",
    "    pred_trues = predicted.round().count_nonzero()\n",
    "    pred_negs = len(predicted) - pred_trues\n",
    "    return (pred_trues, pred_negs, org_trues, org_negs)\n",
    "\n",
    "\n",
    "best_val_perf = test_perf = 0\n",
    "epoch_list = []\n",
    "train_loss_list, test_perf_list, val_perf_list = [], [], [] \n",
    "target_conf = []\n",
    "preds_conf = []\n",
    "for epoch in range(1, 50):\n",
    "    train_loss, train_pred, train_original = train()\n",
    "    (test_loss, test_pred, test_original), (val_loss, val_pred, val_original) = test()\n",
    "\n",
    "    train_pred_trues, train_pred_negs, train_org_trues, train_org_negs = get_pred_trues_and_negs(train_pred, train_original)\n",
    "    test_pred_trues, test_pred_negs, test_org_trues, test_org_negs = get_pred_trues_and_negs(test_pred, test_original)\n",
    "    val_pred_trues, val_pred_negs, val_org_trues, val_org_negs = get_pred_trues_and_negs(val_pred, val_original)\n",
    "\n",
    "    assert len(train_pred) == len(train_original)\n",
    "    assert len(test_pred) == len(test_original)\n",
    "    assert len(val_pred) == len(val_original)\n",
    "\n",
    "\n",
    "\n",
    "    print(f\"Epoch: {epoch}\")\n",
    "    log_loss = '{:s}:, Loss: {:.4f}'\n",
    "\n",
    "    epoch_list.append(epoch)\n",
    "    train_loss_list.append(train_loss.item())\n",
    "    test_perf_list.append(test_loss.item())\n",
    "    val_perf_list.append(val_loss.item())\n",
    "    \n",
    "\n",
    "\n",
    "    if epoch % 1 == 0:\n",
    "        train_rounded_pred = train_pred.round().detach().numpy()\n",
    "        test_rounded_pred = test_pred.round().detach().numpy()\n",
    "        val_rounded_pred = val_pred.round().detach().numpy()\n",
    "\n",
    "        print(log_loss.format(\"Train\", train_loss))\n",
    "        precision, recall, _, _ = precision_recall_fscore_support(\n",
    "            y_pred=train_rounded_pred, y_true=train_original,  average=None)\n",
    "        print(f\"    Neg:    Precision: {precision[0]}, Recall: {recall[0]}\")\n",
    "        print(f\"    Pos:    Precision: {precision[1]}, Recall: {recall[1]}\")\n",
    "\n",
    "        print(log_loss.format(\"Test\", test_loss))\n",
    "        precision, recall, _, _ = precision_recall_fscore_support(\n",
    "            y_pred=test_rounded_pred, y_true=test_original,  average=None)\n",
    "        print(f\"    Neg:    Precision: {precision[0]}, Recall: {recall[0]}\")\n",
    "        print(f\"    Pos:    Precision: {precision[1]}, Recall: {recall[1]}\")\n",
    "\n",
    "        print(log_loss.format(\"Val\", val_loss))\n",
    "        precision, recall, _, _ = precision_recall_fscore_support(\n",
    "            y_pred=val_rounded_pred, y_true=val_original,  average=None)\n",
    "        print(f\"    Neg:    Precision: {precision[0]}, Recall: {recall[0]}\")\n",
    "        print(f\"    Pos:    Precision: {precision[1]}, Recall: {recall[1]}\")\n"
   ]
  },
  {
   "cell_type": "code",
   "execution_count": null,
   "metadata": {},
   "outputs": [
    {
     "data": {
      "image/png": "[encoded data removed]",
      "text/plain": [
       "<Figure size 640x480 with 1 Axes>"
      ]
     },
     "metadata": {},
     "output_type": "display_data"
    }
   ],
   "source": [
    "from torchmetrics.classification import BinaryConfusionMatrix\n",
    "\n",
    "# target, preds = test()\n",
    "# target_conf.append(target)\n",
    "# preds_conf.append(preds)\n",
    "\n",
    "loss, targets, preds = test()\n",
    "\n",
    "\n",
    "# target, pred = evaluate_and_return_confusion()\n",
    "\n",
    "\n",
    "target_final = torch.tensor(targets)\n",
    "preds_final = torch.tensor(preds)\n",
    "metric = BinaryConfusionMatrix()\n",
    "metric(preds_final, target_final)\n",
    "\n",
    "tresholds = np.arange(0.1, 0.75, 0.05)\n",
    "\n",
    "data = {}\n",
    "for treshold in tresholds:\n",
    "    result = treshhold_result(data = preds_final.numpy(), true_data=target_final.numpy(), treshold=treshold)\n",
    "    data[treshold] = result\n",
    "    \n",
    "plt.plot()\n",
    "plot_all_recalls(\n",
    "    data,\n",
    "    bar_width=0.005)"
   ]
  },
  {
   "cell_type": "code",
   "execution_count": null,
   "metadata": {},
   "outputs": [
    {
     "data": {
      "text/plain": [
       "<matplotlib.legend.Legend at 0x2ac91e460>"
      ]
     },
     "execution_count": 195,
     "metadata": {},
     "output_type": "execute_result"
    },
    {
     "data": {
      "image/png": "[encoded data removed]",
      "text/plain": [
       "<Figure size 1000x400 with 1 Axes>"
      ]
     },
     "metadata": {},
     "output_type": "display_data"
    }
   ],
   "source": [
    "\n",
    "fig, ax = plt.subplots(figsize=(10, 4), layout='constrained')\n",
    "ax.plot(epoch_list, train_loss_list, label='train losss')  \n",
    "ax.plot(epoch_list, test_perf_list, label='test loss') \n",
    "ax.plot(epoch_list, val_perf_list, label='val loss')\n",
    "ax.set_xlabel('epochs')  \n",
    "ax.set_title(\"Results\") \n",
    "ax.legend()"
   ]
  },
  {
   "cell_type": "code",
   "execution_count": null,
   "metadata": {},
   "outputs": [
    {
     "data": {
      "text/plain": [
       "0.005"
      ]
     },
     "execution_count": 170,
     "metadata": {},
     "output_type": "execute_result"
    }
   ],
   "source": [
    "(0.44-0.43) / ((0.44-0.43)/0.005)\n"
   ]
  },
  {
   "cell_type": "code",
   "execution_count": null,
   "metadata": {},
   "outputs": [
    {
     "data": {
      "text/plain": [
       "tensor([[103876,     33],\n",
       "        [  6518,    130]])"
      ]
     },
     "execution_count": 115,
     "metadata": {},
     "output_type": "execute_result"
    }
   ],
   "source": [
    "metric = BinaryConfusionMatrix()\n",
    "metric(preds_final, target_final)"
   ]
  },
  {
   "cell_type": "code",
   "execution_count": null,
   "metadata": {},
   "outputs": [
    {
     "data": {
      "text/plain": [
       "tensor(110557)"
      ]
     },
     "execution_count": 49,
     "metadata": {},
     "output_type": "execute_result"
    }
   ],
   "source": [
    "preds_final.round().count_nonzero()"
   ]
  },
  {
   "cell_type": "code",
   "execution_count": null,
   "metadata": {},
   "outputs": [
    {
     "data": {
      "text/plain": [
       "array([[103909,      0],\n",
       "       [     0,   6648]])"
      ]
     },
     "execution_count": 51,
     "metadata": {},
     "output_type": "execute_result"
    }
   ],
   "source": [
    "confusion_matrix(target_final, target_final)"
   ]
  },
  {
   "cell_type": "code",
   "execution_count": null,
   "metadata": {},
   "outputs": [
    {
     "name": "stdout",
     "output_type": "stream",
     "text": [
      "test set size: 110557\n",
      "trues: 0.06013187766075134\n",
      "ones: 0.06013187766075134\n",
      "pred test set size: 110557\n",
      "pred trues: 0.9221007227897644\n"
     ]
    }
   ],
   "source": [
    "test_set_size = len(targets)\n",
    "print(f\"test set size: {test_set_size}\")\n",
    "trues = targets.sum()\n",
    "\n",
    "print(f\"trues: {trues/test_set_size}\")\n",
    "\n",
    "ones = (targets == 1).sum()\n",
    "print(f\"ones: {ones/test_set_size}\")\n",
    "\n",
    "\n",
    "pred_test_size = len(preds)\n",
    "print(f\"pred test set size: {pred_test_size}\")\n",
    "pred_trues = preds.sum()\n",
    "print(f\"pred trues: {pred_trues/pred_test_size}\")"
   ]
  },
  {
   "cell_type": "code",
   "execution_count": null,
   "metadata": {},
   "outputs": [
    {
     "data": {
      "text/plain": [
       "<torch_geometric.loader.dataloader.DataLoader at 0x288976070>"
      ]
     },
     "execution_count": 13,
     "metadata": {},
     "output_type": "execute_result"
    }
   ],
   "source": [
    "test_loader"
   ]
  },
  {
   "cell_type": "code",
   "execution_count": null,
   "metadata": {},
   "outputs": [],
   "source": [
    "# import torch.nn.functional as F\n",
    "\n",
    "# def train():\n",
    "#     for i in range(1, 100):\n",
    "#         if i % 10 == 0:\n",
    "#             print(f'Epoch: {i:03d}, Loss: {loss:.4f}')\n",
    "#         model.train()\n",
    "#         optimizer.zero_grad()\n",
    "#         out = model(our_data.x_dict, our_data.edge_index_dict)\n",
    "\n",
    "#         pred = out['operator']\n",
    "#         true_label = our_data['operator'].y\n",
    "\n",
    "#         print(pred[0])\n",
    "#         # print(true_label)\n",
    "#         loss = F.binary_cross_entropy_with_logits(pred, true_label)\n",
    "#         loss.backward()\n",
    "#         optimizer.step()\n",
    "#         # return float(loss)\n",
    "\n",
    "# train()"
   ]
  },
  {
   "cell_type": "code",
   "execution_count": null,
   "metadata": {},
   "outputs": [],
   "source": [
    "# model.eval()\n",
    "\n",
    "# out = model(our_data.x_dict, our_data.edge_index_dict)\n",
    "# out[\"variable\"]"
   ]
  }
 ],
 "metadata": {
  "kernelspec": {
   "display_name": ".venv",
   "language": "python",
   "name": "python3"
  },
  "language_info": {
   "codemirror_mode": {
    "name": "ipython",
    "version": 3
   },
   "file_extension": ".py",
   "mimetype": "text/x-python",
   "name": "python",
   "nbconvert_exporter": "python",
   "pygments_lexer": "ipython3",
   "version": "3.9.15"
  },
  "orig_nbformat": 4,
  "vscode": {
   "interpreter": {
    "hash": "5f3cd47e8294954fd18af9024571d3e60d92c8fd24f506352a1bb4b0f54cbdcb"
   }
  }
 },
 "nbformat": 4,
 "nbformat_minor": 2
}
