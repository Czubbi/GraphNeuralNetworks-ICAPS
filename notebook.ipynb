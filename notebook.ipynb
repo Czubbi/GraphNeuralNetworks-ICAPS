{
 "cells": [
  {
   "cell_type": "code",
   "execution_count": 3,
   "metadata": {},
   "outputs": [],
   "source": [
    "import torch\n",
    "from torch_geometric.data import Data\n",
    "import networkx as nx\n",
    "from torch_geometric import utils\n",
    "import pandas as pd"
   ]
  },
  {
   "cell_type": "code",
   "execution_count": 22,
   "metadata": {},
   "outputs": [],
   "source": [
    "def cg_processing(df: pd.DataFrame):\n",
    "    df[\"type_pre_eff\"] = df[\"type_pre_eff\"].astype(int)\n",
    "    df[\"type_eff_eff\"] = df[\"type_eff_eff\"].astype(int)\n",
    "    return df"
   ]
  },
  {
   "cell_type": "code",
   "execution_count": 26,
   "metadata": {},
   "outputs": [],
   "source": [
    "\n",
    "cg1 = pd.read_csv('cgs/cg1_cg.csv', header=0)\n",
    "cg1 = cg_processing(cg1)\n",
    "cg2 = pd.read_csv('cgs/cg2_cg.csv', header=0)\n",
    "cg2 = cg_processing(cg2)\n",
    "cg3 = pd.read_csv('cgs/cg3_cg.csv', header=0)\n",
    "cg3 = cg_processing(cg3)\n",
    "\n",
    "df = cg2\n",
    "\n",
    "# get sas file\n",
    "# generate variables and cg\n",
    "# insert into grapgh variables features [3,4,1,....]\n",
    "# insert into grapgh edges\n",
    "# insert into grapgh edge labels\n",
    "\n",
    "with open(\"cgs/current_test.txt\") as file:\n",
    "    lines = file.readlines()\n",
    "\n",
    "# lines = list(map(lambda x: x.split(\" \")[0:2], lines))\n",
    "# lines = list(map(lambda x: (int(x[0]), int(x[1])), lines))\n",
    "edges_and_types = map(lambda x: [int(character) for character in x.split(\" \")[0:4]], lines)\n",
    "edges_and_types = list(edges_and_types)\n",
    "\n",
    "edges = []\n",
    "edge_types = []\n",
    "for edge_out, edge_in, feature in edges_and_types:\n",
    "    edges.append((edge_out, edge_in))\n",
    "    edge_types.append(feature)\n",
    "\n",
    "target_variable = map(lambda x: 0 if x.split(\" \")[3].strip() == \"False\" else 1, lines)\n",
    "target_variable = list(target_variable)\n",
    "\n",
    "data = Data(\n",
    "    edge_index=torch.tensor(edges, dtype=torch.long).t().contiguous(),\n",
    "    edge_attr=[len(edges), 1],\n",
    "    y=target_variable\n",
    ")\n",
    "\n",
    "df_edges = df[[\"source\", \"destination\"]].values\n",
    "df_label = df[\"label\"].values\n",
    "df_features = df[[\"type_pre_eff\", \"type_eff_eff\"]].values\n",
    "\n",
    "\n",
    "data = Data(\n",
    "    edge_index=torch.tensor(df_edges, dtype=torch.long).t().contiguous(),\n",
    "    edge_attr=torch.tensor(df_features, dtype=torch.long),\n",
    "    y=df_label,\n",
    ")\n",
    "\n",
    "\n"
   ]
  },
  {
   "cell_type": "code",
   "execution_count": 32,
   "metadata": {},
   "outputs": [
    {
     "data": {
      "text/plain": [
       "False"
      ]
     },
     "execution_count": 32,
     "metadata": {},
     "output_type": "execute_result"
    }
   ],
   "source": [
    "data.edge_attr[0]\n",
    "data.y[2]\n",
    "df.head()\n"
   ]
  },
  {
   "cell_type": "code",
   "execution_count": 29,
   "metadata": {},
   "outputs": [
    {
     "data": {
      "text/html": [
       "<div>\n",
       "<style scoped>\n",
       "    .dataframe tbody tr th:only-of-type {\n",
       "        vertical-align: middle;\n",
       "    }\n",
       "\n",
       "    .dataframe tbody tr th {\n",
       "        vertical-align: top;\n",
       "    }\n",
       "\n",
       "    .dataframe thead th {\n",
       "        text-align: right;\n",
       "    }\n",
       "</style>\n",
       "<table border=\"1\" class=\"dataframe\">\n",
       "  <thead>\n",
       "    <tr style=\"text-align: right;\">\n",
       "      <th></th>\n",
       "      <th>source</th>\n",
       "      <th>destination</th>\n",
       "      <th>type_pre_eff</th>\n",
       "      <th>type_eff_eff</th>\n",
       "      <th>label</th>\n",
       "    </tr>\n",
       "  </thead>\n",
       "  <tbody>\n",
       "    <tr>\n",
       "      <th>0</th>\n",
       "      <td>5</td>\n",
       "      <td>7</td>\n",
       "      <td>1</td>\n",
       "      <td>0</td>\n",
       "      <td>True</td>\n",
       "    </tr>\n",
       "    <tr>\n",
       "      <th>1</th>\n",
       "      <td>3</td>\n",
       "      <td>7</td>\n",
       "      <td>1</td>\n",
       "      <td>1</td>\n",
       "      <td>True</td>\n",
       "    </tr>\n",
       "    <tr>\n",
       "      <th>2</th>\n",
       "      <td>1</td>\n",
       "      <td>6</td>\n",
       "      <td>1</td>\n",
       "      <td>1</td>\n",
       "      <td>False</td>\n",
       "    </tr>\n",
       "    <tr>\n",
       "      <th>3</th>\n",
       "      <td>4</td>\n",
       "      <td>6</td>\n",
       "      <td>1</td>\n",
       "      <td>0</td>\n",
       "      <td>False</td>\n",
       "    </tr>\n",
       "    <tr>\n",
       "      <th>4</th>\n",
       "      <td>2</td>\n",
       "      <td>3</td>\n",
       "      <td>1</td>\n",
       "      <td>1</td>\n",
       "      <td>True</td>\n",
       "    </tr>\n",
       "  </tbody>\n",
       "</table>\n",
       "</div>"
      ],
      "text/plain": [
       "   source  destination  type_pre_eff  type_eff_eff  label\n",
       "0       5            7             1             0   True\n",
       "1       3            7             1             1   True\n",
       "2       1            6             1             1  False\n",
       "3       4            6             1             0  False\n",
       "4       2            3             1             1   True"
      ]
     },
     "execution_count": 29,
     "metadata": {},
     "output_type": "execute_result"
    }
   ],
   "source": [
    "import torch\n",
    "from torch.nn import Linear, Parameter\n",
    "from torch_geometric.nn import MessagePassing\n",
    "from torch_geometric.utils import add_self_loops, degree\n",
    "\n",
    "class GCNConv(MessagePassing):\n",
    "    def __init__(self, in_channels, out_channels):\n",
    "        super().__init__(aggr='add')  # \"Add\" aggregation (Step 5).\n",
    "        self.lin = Linear(in_channels, out_channels, bias=False)\n",
    "        self.bias = Parameter(torch.Tensor(out_channels))\n",
    "\n",
    "        self.reset_parameters()\n",
    "\n",
    "    def reset_parameters(self):\n",
    "        self.lin.reset_parameters()\n",
    "        self.bias.data.zero_()\n",
    "\n",
    "    def forward(self, x, edge_index):\n",
    "        # x has shape [N, in_channels]\n",
    "        # edge_index has shape [2, E]\n",
    "\n",
    "        # Step 1: Add self-loops to the adjacency matrix.\n",
    "        edge_index, _ = add_self_loops(edge_index, num_nodes=x.size(0))\n",
    "\n",
    "        # Step 2: Linearly transform node feature matrix.\n",
    "        x = self.lin(x)\n",
    "\n",
    "        # Step 3: Compute normalization.\n",
    "        row, col = edge_index\n",
    "        deg = degree(col, x.size(0), dtype=x.dtype)\n",
    "        deg_inv_sqrt = deg.pow(-0.5)\n",
    "        deg_inv_sqrt[deg_inv_sqrt == float('inf')] = 0\n",
    "        norm = deg_inv_sqrt[row] * deg_inv_sqrt[col]\n",
    "\n",
    "        # Step 4-5: Start propagating messages.\n",
    "        out = self.propagate(edge_index, x=x, norm=norm)\n",
    "\n",
    "        # Step 6: Apply a final bias vector.\n",
    "        out += self.bias\n",
    "\n",
    "        return out\n",
    "\n",
    "    def message(self, x_j, norm):\n",
    "        # x_j has shape [E, out_channels]\n",
    "\n",
    "        # Step 4: Normalize node features.\n",
    "        return norm.view(-1, 1) * x_j"
   ]
  },
  {
   "cell_type": "code",
   "execution_count": 33,
   "metadata": {},
   "outputs": [
    {
     "name": "stderr",
     "output_type": "stream",
     "text": [
      "/Users/bartoszlachowicz/Desktop/CodeProjects/GraphNeuralNetworks-ICAPS/.venv/lib/python3.9/site-packages/torch_geometric/data/storage.py:271: UserWarning: Unable to accurately infer 'num_nodes' from the attribute set '{'edge_attr', 'edge_index', 'y'}'. Please explicitly set 'num_nodes' as an attribute of 'data' to suppress this warning\n",
      "  warnings.warn(\n"
     ]
    },
    {
     "data": {
      "image/png": "[encoded data removed]",
      "text/plain": [
       "<Figure size 640x480 with 1 Axes>"
      ]
     },
     "metadata": {},
     "output_type": "display_data"
    }
   ],
   "source": [
    "g = utils.to_networkx(data)\n",
    "\n",
    "a = nx.draw_networkx(g)"
   ]
  },
  {
   "cell_type": "code",
   "execution_count": 60,
   "metadata": {},
   "outputs": [
    {
     "data": {
      "text/plain": [
       "tensor(-0.7890, grad_fn=<AddBackward0>)"
      ]
     },
     "execution_count": 60,
     "metadata": {},
     "output_type": "execute_result"
    }
   ],
   "source": [
    "lin.weight[0][0] + 2*lin.weight[0][1]"
   ]
  },
  {
   "cell_type": "code",
   "execution_count": null,
   "metadata": {},
   "outputs": [],
   "source": []
  },
  {
   "cell_type": "code",
   "execution_count": 56,
   "metadata": {},
   "outputs": [
    {
     "data": {
      "text/plain": [
       "Parameter containing:\n",
       "tensor([[ 0.0105, -0.3998]], requires_grad=True)"
      ]
     },
     "execution_count": 56,
     "metadata": {},
     "output_type": "execute_result"
    }
   ],
   "source": [
    "lin = torch.nn.Linear(2,1, bias=False)\n",
    "lin.weight"
   ]
  },
  {
   "cell_type": "code",
   "execution_count": 57,
   "metadata": {},
   "outputs": [
    {
     "data": {
      "text/plain": [
       "torch.Size([4, 2])"
      ]
     },
     "execution_count": 57,
     "metadata": {},
     "output_type": "execute_result"
    }
   ],
   "source": [
    "d1 = [1,2]\n",
    "d2 = [3,4]\n",
    "d3 = [5,6]\n",
    "d4 = [7,8]\n",
    "\n",
    "# [4 x [2,1]]\n",
    "\n",
    "data = torch.tensor([d1,d2,d3,d4], dtype=torch.float)\n",
    "data.shape"
   ]
  },
  {
   "cell_type": "code",
   "execution_count": 58,
   "metadata": {},
   "outputs": [
    {
     "data": {
      "text/plain": [
       "tensor([[-0.7890],\n",
       "        [-1.5675],\n",
       "        [-2.3460],\n",
       "        [-3.1245]], grad_fn=<MmBackward0>)"
      ]
     },
     "execution_count": 58,
     "metadata": {},
     "output_type": "execute_result"
    }
   ],
   "source": [
    "lin(data)"
   ]
  },
  {
   "cell_type": "code",
   "execution_count": 69,
   "metadata": {},
   "outputs": [
    {
     "data": {
      "text/plain": [
       "tensor([100., 101., 104., 109., 116., 125.])"
      ]
     },
     "execution_count": 69,
     "metadata": {},
     "output_type": "execute_result"
    }
   ],
   "source": [
    "import torch\n",
    "import torch_geometric\n",
    "from torch_geometric.nn import MessagePassing\n",
    "class SrcDstMean(MessagePassing):\n",
    "    \"\"\"Calculates mean of one feature along the edges.\"\"\"\n",
    "    def init(self):\n",
    "        super().init(aggr=\"mean\", flow=\"source_to_target\")\n",
    "    def forward(self, x, edge_index):\n",
    "        return self.propagate(edge_index=edge_index, x=x)\n",
    "    def message(self, x_i, x_j, edge_index, size):\n",
    "        print(x_i)\n",
    "        # return  torch.stack([x_i, x_j**2], dim=1)\n",
    "    def update(self, aggr_out):\n",
    "        return aggr_out + 2333\n",
    "    \n",
    "\n",
    "sdmean = SrcDstMean()\n",
    "index_arr = torch.LongTensor([[0,1,2,3,4], [1,2,3,4,5],])\n",
    "x = torch.Tensor([z**2+100. for z in range(6)])\n",
    "x\n",
    "# res = sdmean(x=x, edge_index=index_arr)"
   ]
  },
  {
   "cell_type": "code",
   "execution_count": 100,
   "metadata": {},
   "outputs": [],
   "source": [
    "import json\n",
    "\n",
    "first_object = {\n",
    "    \"imie\": \"bartek\",\n",
    "    \"wiek\": 12,\n",
    "    \"is_gay\": False\n",
    "}\n",
    "\n",
    "second_object = {\n",
    "    \"imie\": \"Kasia\",\n",
    "    \"wiek\": 14\n",
    "}\n",
    "\n",
    "third_object = {\n",
    "    \"imie\": \"Maciek\",\n",
    "    \"wiek\": 16,\n",
    "}\n",
    "\n",
    "lista_obiektow = [first_object, second_object, third_object]\n",
    "\n",
    "\n",
    "with open(\"nowy.json\", \"w\") as file:\n",
    "    json.dump(lista_obiektow, file)"
   ]
  },
  {
   "cell_type": "code",
   "execution_count": 19,
   "metadata": {},
   "outputs": [
    {
     "data": {
      "image/png": "[encoded data removed]",
      "text/plain": [
       "<Figure size 640x480 with 1 Axes>"
      ]
     },
     "metadata": {},
     "output_type": "display_data"
    }
   ],
   "source": [
    "import torch\n",
    "from torch_geometric.data import Data\n",
    "\n",
    "edge_index = torch.tensor([[1, 2, 1, 2, 0],\n",
    "                           [1, 0, 2, 3, 3]], dtype=torch.long)\n",
    "x = torch.tensor([[-1], [0], [1], [1.1]], dtype=torch.float)\n",
    "\n",
    "data = Data(x=x, edge_index=edge_index)\n",
    "g = utils.to_networkx(data)\n",
    "\n",
    "a = nx.draw_networkx(g)"
   ]
  }
 ],
 "metadata": {
  "kernelspec": {
   "display_name": "Python 3.9.14 ('.venv': venv)",
   "language": "python",
   "name": "python3"
  },
  "language_info": {
   "codemirror_mode": {
    "name": "ipython",
    "version": 3
   },
   "file_extension": ".py",
   "mimetype": "text/x-python",
   "name": "python",
   "nbconvert_exporter": "python",
   "pygments_lexer": "ipython3",
   "version": "3.9.14"
  },
  "orig_nbformat": 4,
  "vscode": {
   "interpreter": {
    "hash": "5f3cd47e8294954fd18af9024571d3e60d92c8fd24f506352a1bb4b0f54cbdcb"
   }
  }
 },
 "nbformat": 4,
 "nbformat_minor": 2
}
