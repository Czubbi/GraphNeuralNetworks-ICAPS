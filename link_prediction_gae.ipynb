{
 "cells": [
  {
   "cell_type": "code",
   "execution_count": 75,
   "metadata": {},
   "outputs": [],
   "source": [
    "import warnings\n",
    "warnings.filterwarnings('ignore')\n"
   ]
  },
  {
   "cell_type": "code",
   "execution_count": 76,
   "metadata": {},
   "outputs": [],
   "source": [
    "import os\n",
    "import torch\n",
    "import torch.nn.functional as F\n",
    "from sklearn.metrics import roc_auc_score\n",
    "\n",
    "#printing\n",
    "from torch_geometric import utils\n",
    "import networkx as nx\n",
    "\n",
    "\n",
    "from torch_geometric.nn import GCNConv\n",
    "\n",
    "#Data manipulation\n",
    "from torch_geometric.data import Data\n",
    "from torch_geometric.loader import DataLoader\n",
    "import os\n",
    "from typing import Dict, Tuple\n",
    "import pandas as pd\n"
   ]
  },
  {
   "cell_type": "code",
   "execution_count": 77,
   "metadata": {},
   "outputs": [
    {
     "data": {
      "text/plain": [
       "type"
      ]
     },
     "execution_count": 77,
     "metadata": {},
     "output_type": "execute_result"
    }
   ],
   "source": [
    "type(DataLoader)"
   ]
  },
  {
   "cell_type": "code",
   "execution_count": 78,
   "metadata": {},
   "outputs": [
    {
     "data": {
      "text/plain": [
       "device(type='cpu')"
      ]
     },
     "execution_count": 78,
     "metadata": {},
     "output_type": "execute_result"
    }
   ],
   "source": [
    "device = torch.device('cuda' if torch.cuda.is_available() else 'cpu')\n",
    "device"
   ]
  },
  {
   "cell_type": "code",
   "execution_count": 79,
   "metadata": {},
   "outputs": [],
   "source": [
    "Edges = Dict[Tuple[int, int], Tuple[int, ...]]\n",
    "Nodes = Dict[int, Tuple[int, ...]]\n",
    "all_edges: Dict[Tuple[int, int], Tuple[int, ...]] = {}\n",
    "\n",
    "def training_domains(data_directory):\n",
    "    for domain_name in os.listdir(data_directory):\n",
    "        domain_path = os.path.join(data_directory, domain_name)\n",
    "        train_domain(domain_path)\n",
    "\n",
    "def train_domain(domain_path):\n",
    "    for problem_name in os.listdir(domain_path):\n",
    "        if problem_name == \"empty_causal_graphs\":\n",
    "            continue\n",
    "        problem_path = os.path.join(domain_path, problem_name)\n",
    "        data = problem_path_to_data(problem_path)\n",
    "\n",
    "        # Generate list of data objects from our problem path\n",
    "        \n",
    "        # Iterate over all the problems in the domain\n",
    "        # Generate a data object for each problem\n",
    "        # train_test_split everything\n",
    "        # train the model\n",
    "\n",
    "def problem_path_to_data(problem_path):\n",
    "    # print(problem_path)\n",
    "    cg_df = pd.read_csv(os.path.join(problem_path, 'cg.csv'), index_col=[0, 1])\n",
    "    cg_df.sort_index(inplace=True)\n",
    "    nodes_df = pd.read_csv(os.path.join(problem_path, 'nodes.csv'), index_col=0)\n",
    "\n",
    "    edges = cg_df.index\n",
    "    edge_features_list = cg_df[['type_pre_eff', 'type_eff_eff']].values\n",
    "    edge_labels = cg_df['label'].values\n",
    "    edge_dict = {}\n",
    "\n",
    "    # Unlucky naming, but the edge_features is a vector representing features of a single edge\n",
    "    # edge_feature_list is the dictionary of all the edges and their respective features\n",
    "    for edge, edge_features, label in zip(edges, edge_features_list, edge_labels):\n",
    "        edge_dict[tuple(edge)] = (edge_features, label)\n",
    "\n",
    "    edge_features, edge_labels = zip(*[edge_dict[edge] for edge in sorted(edge_dict.keys())])\n",
    "\n",
    "\n",
    "    data = Data(\n",
    "        x=torch.tensor(nodes_df.values, dtype=torch.float),\n",
    "        edge_index=torch.tensor(list(sorted(edge_dict.keys())), dtype=torch.long).t().contiguous(),\n",
    "        edge_attr=torch.tensor(edge_features, dtype=torch.float),\n",
    "        y=torch.tensor(edge_labels, dtype=torch.bool)\n",
    "    )\n",
    "    return data\n",
    "\n",
    "\n",
    "    \n",
    "    \n",
    "def draw_graph(data: Data):\n",
    "    g = utils.to_networkx(data)\n",
    "\n",
    "    color = ['green' if data.y[i] else 'red' for i in range(data.y.size(0))]\n",
    "    import matplotlib as plt\n",
    "    a = nx.draw_networkx(g,node_size=200, pos=nx.spectral_layout(g), edge_color=color, node_color='green', with_labels=True)\n",
    "\n",
    "train_domain('graph_training_data/satellite')\n",
    "\n"
   ]
  },
  {
   "cell_type": "code",
   "execution_count": 80,
   "metadata": {},
   "outputs": [],
   "source": [
    "training_domains(\"graph_training_data\")"
   ]
  },
  {
   "cell_type": "code",
   "execution_count": 72,
   "metadata": {},
   "outputs": [
    {
     "name": "stdout",
     "output_type": "stream",
     "text": [
      "['graph_training_data/satellite/p01-2-2-2-5-1/cg.csv', 'graph_training_data/satellite/p02-2-2-2-5-4/cg.csv', 'graph_training_data/satellite/p63-2-4-2-15-7/cg.csv']\n",
      "<class 'dict'>\n",
      "<class 'dict'>\n",
      "<class 'dict'>\n"
     ]
    },
    {
     "name": "stderr",
     "output_type": "stream",
     "text": [
      "/var/folders/3t/9jk6b03d78zf_3slsmhznk0c0000gn/T/ipykernel_58863/2380150292.py:63: DeprecationWarning: In future, it will be an error for 'np.bool_' scalars to be interpreted as an index\n",
      "  y=torch.tensor(edge_labels, dtype=torch.bool)\n"
     ]
    },
    {
     "data": {
      "text/plain": [
       "tensor([ True,  True,  True,  True,  True,  True,  True,  True, False, False,\n",
       "        False, False, False,  True,  True,  True,  True,  True,  True,  True,\n",
       "         True,  True, False,  True,  True, False,  True,  True,  True,  True,\n",
       "         True,  True,  True,  True,  True,  True,  True,  True, False,  True,\n",
       "         True,  True,  True,  True,  True,  True,  True,  True,  True,  True,\n",
       "         True,  True,  True,  True,  True,  True,  True,  True,  True,  True,\n",
       "         True, False, False, False, False, False,  True,  True,  True,  True,\n",
       "         True,  True,  True,  True,  True,  True,  True,  True,  True,  True,\n",
       "         True,  True])"
      ]
     },
     "execution_count": 72,
     "metadata": {},
     "output_type": "execute_result"
    },
    {
     "data": {
      "image/png": "[encoded data removed]",
      "text/plain": [
       "<Figure size 640x480 with 1 Axes>"
      ]
     },
     "metadata": {},
     "output_type": "display_data"
    }
   ],
   "source": [
    "\n",
    "\n",
    "\n",
    "\n",
    "graph_data_directory = 'graph_training_data/satellite/'\n",
    "case_dirs = []\n",
    "for file in os.listdir(graph_data_directory):\n",
    "    new_dir = os.path.join(graph_data_directory, file)\n",
    "    case_dirs.append(new_dir)\n",
    "\n",
    "case_dirs = sorted(case_dirs)\n",
    "\n",
    "case_dirs = case_dirs[0:2]\n",
    "case_dirs.append(\"graph_training_data/satellite/p63-2-4-2-15-7\")\n",
    "\n",
    "\n",
    "cgs = [os.path.join(fpath, 'cg.csv') for fpath in case_dirs]\n",
    "nodes = [os.path.join(fpath, 'nodes.csv') for fpath in case_dirs]\n",
    "print(cgs)\n",
    "\n",
    "\n",
    "class OurData():\n",
    "    edge_batches: Tuple[Edges] = ()\n",
    "    node_batches: Tuple[Nodes] = ()\n",
    "\n",
    "\n",
    "    def register_batch(self, edges: Edges, nodes: Nodes):\n",
    "        self.edge_batches += (edges,)\n",
    "        self.node_batches += (nodes,)\n",
    "\n",
    "    def __repr__(self):\n",
    "        return f'OurData(edge_batches={self.edge_batches}, node_batches={self.node_batches})'\n",
    "\n",
    "    def __str__(self):\n",
    "        return self.__repr__()\n",
    "our_data = OurData()\n",
    "\n",
    "for cg, node in zip(cgs, nodes):\n",
    "    cg_df = pd.read_csv(cg, index_col=[0,1])\n",
    "    cg_df.sort_index(inplace=True)\n",
    "\n",
    "    node_df = pd.read_csv(node, index_col=0)\n",
    "    edges = cg_df.index\n",
    "    edge_features = cg_df[['type_pre_eff', 'type_eff_eff']].values\n",
    "    edge_labels = cg_df['label'].values\n",
    "    edge_dict = {}\n",
    "    for edge, edge_feature, label in zip(edges, edge_features, edge_labels):\n",
    "        # print(f\"Edge: {edge}\")\n",
    "        # print(f\"Edge Feature: {edge_feature}\")\n",
    "        # print(f\"Label: {label}\")\n",
    "        edge_dict[tuple(edge)] = (edge_feature, label)\n",
    "    our_data.register_batch(edge_dict, node_df)\n",
    "\n",
    "data_batches = []\n",
    "\n",
    "for edge_batch, node_batch in zip(our_data.edge_batches, our_data.node_batches):\n",
    "    print(type(edge_batch))\n",
    "    edges = edge_batch\n",
    "    nodes = node_batch\n",
    "    edge_features, edge_labels = zip(*[edges[edge] for edge in sorted(edges.keys())])\n",
    "\n",
    "\n",
    "    data = Data(\n",
    "        x=torch.tensor(nodes.values, dtype=torch.float),\n",
    "        edge_index=torch.tensor(list(sorted(edges.keys())), dtype=torch.long).t().contiguous(),\n",
    "        edge_attr=torch.tensor(edge_features, dtype=torch.float),\n",
    "        y=torch.tensor(edge_labels, dtype=torch.bool)\n",
    "    )\n",
    "    data_batches.append(data)\n",
    "\n",
    "data_loader = DataLoader(data_batches, batch_size=2, shuffle=True)\n",
    "\n",
    "this_data = data_loader.dataset[-1]\n",
    "\n",
    "g = utils.to_networkx(this_data)\n",
    "\n",
    "\n",
    "color = ['green' if this_data.y[i] else 'red' for i in range(this_data.y.size(0))]\n",
    "import matplotlib as plt\n",
    "a = nx.draw_networkx(g,node_size=200, pos=nx.spectral_layout(g), edge_color=color, node_color='green', with_labels=True)\n",
    "\n",
    "edge_color=this_data.y\n",
    "edge_color"
   ]
  },
  {
   "cell_type": "code",
   "execution_count": null,
   "metadata": {},
   "outputs": [],
   "source": [
    "from torch_geometric.data import Data\n",
    "from torch_geometric.loader import DataLoader\n",
    "\n",
    "class MyData(Data):\n",
    "    my_id = 0\n",
    "    def __init__(self, *args, **kwargs):\n",
    "        super().__init__(*args, **kwargs)\n",
    "        self.my_id = MyData.my_id\n",
    "        MyData.my_id += 1\n",
    "    def __cat_dim__(self, key, value, *args, **kwargs):\n",
    "         if key == 'foo':\n",
    "             return None\n",
    "         else:\n",
    "             return super().__cat_dim__(key, value, *args, **kwargs)\n",
    "\n",
    "edge_index = torch.tensor([\n",
    "   [0, 1, 1, 2],\n",
    "   [1, 0, 2, 1],\n",
    "])\n",
    "\n",
    "\n",
    "\n",
    "foo = torch.randn(16)\n",
    "\n",
    "data = MyData(edge_index=edge_index, foo=foo)\n",
    "data1 = MyData(edge_index=edge_index, foo=foo)\n",
    "data2 = MyData(edge_index=edge_index, foo=foo)\n",
    "data_list = [data, data1, data2]\n",
    "loader = DataLoader(data_list, batch_size=2, shuffle=True)\n",
    "batch = next(iter(loader))\n",
    "\n",
    "print(batch[0].my_id)\n",
    "print(batch[1].my_id)\n",
    "\n",
    "\n",
    "\n"
   ]
  },
  {
   "cell_type": "code",
   "execution_count": 208,
   "metadata": {},
   "outputs": [],
   "source": [
    "OneBatch = Data\n",
    "class Net(torch.nn.Module):\n",
    "    def __init__(self, features_num):\n",
    "        super(Net, self).__init__()\n",
    "        self.conv1 = GCNConv(features_num, 128)\n",
    "        self.conv2 = GCNConv(128, 64)\n",
    "\n",
    "    def encode(self, data):\n",
    "        x = self.conv1(data.x, data.edge_index) # convolution 1\n",
    "        x = x.relu()\n",
    "        return self.conv2(x, data.edge_index) # convolution 2\n",
    "\n",
    "\n",
    "\n",
    "    def decode(self, z, edge_index): # only pos and neg edges\n",
    "        # if not test:\n",
    "        #     print('pos_edge_index', pos_edge_index.shape)\n",
    "        #     print('neg_edge_index', neg_edge_index.shape)\n",
    "            # print('pos_edge_index', pos_edge_index)\n",
    "            # print('neg_edge_index', neg_edge_index)\n",
    "\n",
    "        # if not test:\n",
    "        #     print('edge_index 0 shape:', edge_index[0].shape)\n",
    "        #     # print(\"Edge index 0: \", edge_index[0])\n",
    "        #TODO  edge_index[0] 7 4 9\n",
    "\n",
    "        #     print(\"Edge index 1 shape: \", edge_index[1].shape)\n",
    "        #     # print(\"Edge index 1: \", edge_index[1])\n",
    "        #TODO edge_index[1] 5 3 9\n",
    "        #     print(\"z shape: \", z.shape)\n",
    "\n",
    "        # Multiply adjecency matrix with latent space using the COO format of \n",
    "        # Edge index[0] and Edge index[1]\n",
    "        logits = (z[edge_index[0]] * z[edge_index[1]]).sum(dim=-1)  # dot product \n",
    "        # if not test:\n",
    "        #     print('logits shape:', logits.shape)\n",
    "        #     print('logits', logits)\n",
    "        #     4/0\n",
    "\n",
    "        return logits\n",
    "\n",
    "    def decode_all(self, z): \n",
    "        prob_adj = z @ z.t() # get adj NxN\n",
    "        return (prob_adj > 0).nonzero(as_tuple=False).t() # get predicted edge_list "
   ]
  },
  {
   "cell_type": "code",
   "execution_count": 232,
   "metadata": {},
   "outputs": [
    {
     "name": "stdout",
     "output_type": "stream",
     "text": [
      "torch.Size([12, 2])\n",
      "torch.Size([13, 2])\n"
     ]
    }
   ],
   "source": [
    "num_node_features = next(iter(data_loader)).x.shape[1]\n",
    "model, data = Net(num_node_features).to(device), data.to(device)\n",
    "optimizer = torch.optim.Adam(params=model.parameters(), lr=0.01)\n",
    "batch = next(iter(data_loader))\n",
    "print(batch[0].x.shape)\n",
    "print(batch[1].x.shape)\n"
   ]
  },
  {
   "cell_type": "code",
   "execution_count": 257,
   "metadata": {},
   "outputs": [],
   "source": [
    "def train():\n",
    "    model.train()  # Flag to modify the gradient\n",
    "\n",
    "    batch = next(iter(data_loader))  # This is next level shit\n",
    "    # print(batch[0])\n",
    "    # print(batch[1])\n",
    "    edge_index = batch.edge_index\n",
    "    optimizer.zero_grad()\n",
    "    z = model.encode(batch) \n",
    "    link_logits = model.decode(z, edge_index) # decode\n",
    "    # print(link_logits)\n",
    "    link_labels = batch.y\n",
    "    # print(link_labels)\n",
    "    link_labels = link_labels.type(torch.float)\n",
    "    # print(link_labels)\n",
    "    loss = F.binary_cross_entropy_with_logits(link_logits, link_labels)\n",
    "    loss.backward()\n",
    "    optimizer.step()\n",
    "\n",
    "    return loss\n",
    "\n",
    "\n",
    "@torch.no_grad()\n",
    "def test():\n",
    "    model.eval()\n",
    "    perfs = []\n",
    "    for prefix in [\"val\", \"test\"]:\n",
    "        pos_edge_index = data[f'{prefix}_pos_edge_index']\n",
    "        neg_edge_index = data[f'{prefix}_neg_edge_index']\n",
    "\n",
    "        z = model.encode() # encode train\n",
    "        link_logits = model.decode(z, pos_edge_index, neg_edge_index, test=True) # decode test or val\n",
    "        link_probs = link_logits.sigmoid() # apply sigmoid\n",
    "        \n",
    "        link_labels = get_link_labels(neg_edge_index, pos_edge_index) # get link\n",
    "        \n",
    "        perfs.append(roc_auc_score(link_labels.cpu(), link_probs.cpu())) #compute roc_auc score\n",
    "    return perfs"
   ]
  },
  {
   "cell_type": "code",
   "execution_count": 258,
   "metadata": {},
   "outputs": [
    {
     "name": "stdout",
     "output_type": "stream",
     "text": [
      "Epoch: 010, Loss: 1.4836\n",
      "Epoch: 020, Loss: 0.0211\n",
      "Epoch: 030, Loss: 0.4479\n",
      "Epoch: 040, Loss: 0.4292\n",
      "Epoch: 050, Loss: 0.3755\n",
      "Epoch: 060, Loss: 0.3718\n",
      "Epoch: 070, Loss: 0.2479\n",
      "Epoch: 080, Loss: 0.3556\n",
      "Epoch: 090, Loss: 0.0783\n",
      "Epoch: 100, Loss: 0.2439\n"
     ]
    }
   ],
   "source": [
    "best_val_perf = test_perf = 0\n",
    "for epoch in range(1, 101):\n",
    "    train_loss = train()\n",
    "    # val_perf, tmp_test_perf = test()\n",
    "    # if val_perf > best_val_perf:\n",
    "    #     best_val_perf = val_perf\n",
    "    #     test_perf = tmp_test_perf\n",
    "    # log = 'Epoch: {:03d}, Loss: {:.4f}, Val: {:.4f}, Test: {:.4f}'\n",
    "    log = 'Epoch: {:03d}, Loss: {:.4f}'\n",
    "    if epoch % 10 == 0:\n",
    "    #     print(log.format(epoch, train_loss, best_val_perf, test_perf))\n",
    "        print(log.format(epoch, train_loss))"
   ]
  },
  {
   "cell_type": "code",
   "execution_count": 175,
   "metadata": {},
   "outputs": [
    {
     "data": {
      "text/plain": [
       "tensor([ 9.,  8.,  4.,  5., 10.])"
      ]
     },
     "execution_count": 175,
     "metadata": {},
     "output_type": "execute_result"
    }
   ],
   "source": [
    "t1 = 10*torch.rand((2,5))\n",
    "t2 = 10*torch.rand((2,5))\n",
    "t1 = t1.round()\n",
    "t2 = -t2.round()\n",
    "a = torch.cat([t1,t2], dim=-1)\n",
    "a.shape\n",
    "\n",
    "t1[1]"
   ]
  },
  {
   "cell_type": "code",
   "execution_count": 143,
   "metadata": {},
   "outputs": [
    {
     "data": {
      "text/plain": [
       "tensor([17.6733, 15.0368, 14.3092])"
      ]
     },
     "execution_count": 143,
     "metadata": {},
     "output_type": "execute_result"
    }
   ],
   "source": [
    "nodes = torch.rand(2704, 64)\n",
    "n1 = nodes[[12,13,14]]\n",
    "n2 = nodes[[15,16,17]]\n",
    "ressss = n1*n2\n",
    "ressss.sum(-1)"
   ]
  }
 ],
 "metadata": {
  "kernelspec": {
   "display_name": "Python 3.9.14 ('.venv': venv)",
   "language": "python",
   "name": "python3"
  },
  "language_info": {
   "codemirror_mode": {
    "name": "ipython",
    "version": 3
   },
   "file_extension": ".py",
   "mimetype": "text/x-python",
   "name": "python",
   "nbconvert_exporter": "python",
   "pygments_lexer": "ipython3",
   "version": "3.9.14"
  },
  "orig_nbformat": 4,
  "vscode": {
   "interpreter": {
    "hash": "5f3cd47e8294954fd18af9024571d3e60d92c8fd24f506352a1bb4b0f54cbdcb"
   }
  }
 },
 "nbformat": 4,
 "nbformat_minor": 2
}
